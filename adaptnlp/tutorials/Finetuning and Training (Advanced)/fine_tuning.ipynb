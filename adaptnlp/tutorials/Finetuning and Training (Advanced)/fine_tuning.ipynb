{
 "cells": [
  {
   "cell_type": "markdown",
   "metadata": {},
   "source": [
    "# Fine Tune Transformers Models"
   ]
  },
  {
   "cell_type": "code",
   "execution_count": null,
   "metadata": {},
   "outputs": [],
   "source": [
    "from adaptnlp import LMFineTuner"
   ]
  },
  {
   "cell_type": "markdown",
   "metadata": {},
   "source": [
    "### 1. Initialize train and test data, same format as you would load in a classifier"
   ]
  },
  {
   "cell_type": "code",
   "execution_count": null,
   "metadata": {},
   "outputs": [],
   "source": [
    "OUTPUT_DIR = \"Path/to/output_dir\"\n",
    "train_data_file = \"Path/to/train.csv\" \n",
    "eval_data_file = \"Path/to/test.csv\""
   ]
  },
  {
   "cell_type": "markdown",
   "metadata": {},
   "source": [
    "### 2. Initialize Fine Tuner and Freeze up to last layer"
   ]
  },
  {
   "cell_type": "code",
   "execution_count": null,
   "metadata": {},
   "outputs": [],
   "source": [
    "ft_configs = {\n",
    "              \"train_data_file\": train_data_file,\n",
    "              \"eval_data_file\": eval_data_file,\n",
    "              \"model_type\": \"bert\",\n",
    "              \"model_name_or_path\": \"bert-base-cased\",\n",
    "              \"mlm\": True,\n",
    "              \"mlm_probability\": 0.15,\n",
    "              \"config_name\": None,\n",
    "              \"tokenizer_name\": None,\n",
    "              \"cache_dir\": None,\n",
    "              \"block_size\": -1,\n",
    "              \"no_cuda\": False,\n",
    "              \"overwrite_cache\": False,\n",
    "              \"seed\": 42,\n",
    "              \"fp16\": False,\n",
    "              \"fp16_opt_level\": \"O1\",\n",
    "              \"local_rank\": -1,\n",
    "             }\n",
    "finetuner = LMFineTuner(**ft_configs)\n",
    "finetuner.freeze()"
   ]
  },
  {
   "cell_type": "markdown",
   "metadata": {},
   "source": [
    "### 3. Find Learning Rate for Fine Tuner with automated learning rate finder"
   ]
  },
  {
   "cell_type": "code",
   "execution_count": null,
   "metadata": {},
   "outputs": [],
   "source": [
    "learning_rate_finder_configs = {\n",
    "    \"output_dir\": OUTPUT_DIR,\n",
    "    \"file_name\": \"learning_rate.tsv\",\n",
    "    \"start_learning_rate\": 1e-7,\n",
    "    \"end_learning_rate\": 10,\n",
    "    \"iterations\": 100,\n",
    "    \"mini_batch_size\": 8,\n",
    "    \"stop_early\": True,\n",
    "    \"smoothing_factor\": 0.7,\n",
    "    \"adam_epsilon\": 1e-8,\n",
    "    \"weight_decay\": 0.0,\n",
    "}\n",
    "learning_rate = finetuner.find_learning_rate(**learning_rate_finder_configs)\n",
    "finetuner.freeze()"
   ]
  },
  {
   "cell_type": "markdown",
   "metadata": {},
   "source": [
    "### 4. Train One Cycle"
   ]
  },
  {
   "cell_type": "code",
   "execution_count": null,
   "metadata": {},
   "outputs": [],
   "source": [
    "finetuner.freeze()\n",
    "train_configs = {\n",
    "    \"output_dir\": OUTPUT_DIR,\n",
    "    \"should_continue\": False,\n",
    "    \"overwrite_output_dir\": True,\n",
    "    \"evaluate_during_training\": True,\n",
    "    \"per_gpu_train_batch_size\": 2,\n",
    "    \"gradient_accumulation_steps\": 1,\n",
    "    \"learning_rate\": learning_rate,\n",
    "    \"weight_decay\": 0.0,\n",
    "    \"adam_epsilon\": 1e-8,\n",
    "    \"max_grad_norm\": 1.0,\n",
    "    \"num_train_epochs\": 10.0,\n",
    "    \"max_steps\": -1,\n",
    "    \"warmup_steps\": 0,\n",
    "    \"logging_steps\": 50,\n",
    "    \"save_steps\": 50,\n",
    "    \"save_total_limit\": None,\n",
    "    \"use_tensorboard\": False,\n",
    "}\n",
    "finetuner.train_one_cycle(**train_configs)"
   ]
  },
  {
   "cell_type": "code",
   "execution_count": null,
   "metadata": {},
   "outputs": [],
   "source": [
    "finetuner.unfreeze()\n",
    "finetuner.train(**train_configs)"
   ]
  },
  {
   "cell_type": "markdown",
   "metadata": {},
   "source": [
    "### 5. Evaluate"
   ]
  },
  {
   "cell_type": "code",
   "execution_count": null,
   "metadata": {},
   "outputs": [],
   "source": [
    "finetuner.evaluate_all_checkpoints(\n",
    "    output_dir=OUTPUT_DIR,\n",
    "    per_gpu_eval_batch_size=2\n",
    ")"
   ]
  }
 ],
 "metadata": {
  "kernelspec": {
   "display_name": "Python 3",
   "language": "python",
   "name": "python3"
  },
  "language_info": {
   "codemirror_mode": {
    "name": "ipython",
    "version": 3
   },
   "file_extension": ".py",
   "mimetype": "text/x-python",
   "name": "python",
   "nbconvert_exporter": "python",
   "pygments_lexer": "ipython3",
   "version": "3.6.9"
  }
 },
 "nbformat": 4,
 "nbformat_minor": 4
}
