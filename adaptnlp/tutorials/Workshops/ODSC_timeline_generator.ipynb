{
 "cells": [
  {
   "cell_type": "markdown",
   "metadata": {
    "colab_type": "text",
    "id": "nThoqg72bjdC"
   },
   "source": [
    "# **State-of-the-art NLP Made Easy with [AdaptNLP](https://www.github.com/novetta/adaptnlp)**"
   ]
  },
  {
   "cell_type": "markdown",
   "metadata": {
    "colab_type": "text",
    "id": "ID0J_MsTbjdD"
   },
   "source": [
    "# 1. Today's Objective: Generate Enriched Data from Unstructured Text"
   ]
  },
  {
   "cell_type": "markdown",
   "metadata": {
    "colab_type": "text",
    "id": "uMVIO0yiQPF9"
   },
   "source": [
    "### *Prerequisite: Install AdaptNLP*"
   ]
  },
  {
   "cell_type": "code",
   "execution_count": 1,
   "metadata": {
    "colab": {
     "base_uri": "https://localhost:8080/",
     "height": 1000
    },
    "colab_type": "code",
    "id": "rWsQAI7QQMYd",
    "outputId": "846ce58e-13aa-4c18-e195-cbdcf05a2ccb"
   },
   "outputs": [
    {
     "name": "stdout",
     "output_type": "stream",
     "text": [
      "Requirement already satisfied: adaptnlp in /home/andrew/Documents/github/adaptnlp\n",
      "Requirement already satisfied: black in /home/andrew/Documents/github/adaptnlp/venv-adaptnlp/lib/python3.6/site-packages (from adaptnlp)\n",
      "Requirement already satisfied: click in /home/andrew/Documents/github/adaptnlp/venv-adaptnlp/lib/python3.6/site-packages (from adaptnlp)\n",
      "Requirement already satisfied: flair==0.4.5 in /home/andrew/Documents/github/adaptnlp/venv-adaptnlp/lib/python3.6/site-packages (from adaptnlp)\n",
      "Requirement already satisfied: flake8 in /home/andrew/Documents/github/adaptnlp/venv-adaptnlp/lib/python3.6/site-packages (from adaptnlp)\n",
      "Requirement already satisfied: html_text in /home/andrew/Documents/github/adaptnlp/venv-adaptnlp/lib/python3.6/site-packages (from adaptnlp)\n",
      "Requirement already satisfied: jupyter in /home/andrew/Documents/github/adaptnlp/venv-adaptnlp/lib/python3.6/site-packages (from adaptnlp)\n",
      "Requirement already satisfied: jupyterlab in /home/andrew/Documents/github/adaptnlp/venv-adaptnlp/lib/python3.6/site-packages (from adaptnlp)\n",
      "Requirement already satisfied: transformers==2.8.0 in /home/andrew/Documents/github/adaptnlp/venv-adaptnlp/lib/python3.6/site-packages (from adaptnlp)\n",
      "Requirement already satisfied: attrs>=18.1.0 in /home/andrew/Documents/github/adaptnlp/venv-adaptnlp/lib/python3.6/site-packages (from black->adaptnlp)\n",
      "Requirement already satisfied: toml>=0.9.4 in /home/andrew/Documents/github/adaptnlp/venv-adaptnlp/lib/python3.6/site-packages (from black->adaptnlp)\n",
      "Requirement already satisfied: pathspec<1,>=0.6 in /home/andrew/Documents/github/adaptnlp/venv-adaptnlp/lib/python3.6/site-packages (from black->adaptnlp)\n",
      "Requirement already satisfied: typed-ast>=1.4.0 in /home/andrew/Documents/github/adaptnlp/venv-adaptnlp/lib/python3.6/site-packages (from black->adaptnlp)\n",
      "Requirement already satisfied: appdirs in /home/andrew/Documents/github/adaptnlp/venv-adaptnlp/lib/python3.6/site-packages (from black->adaptnlp)\n",
      "Requirement already satisfied: regex in /home/andrew/Documents/github/adaptnlp/venv-adaptnlp/lib/python3.6/site-packages (from black->adaptnlp)\n",
      "Requirement already satisfied: urllib3<1.25,>=1.20 in /home/andrew/Documents/github/adaptnlp/venv-adaptnlp/lib/python3.6/site-packages (from flair==0.4.5->adaptnlp)\n",
      "Requirement already satisfied: tabulate in /home/andrew/Documents/github/adaptnlp/venv-adaptnlp/lib/python3.6/site-packages (from flair==0.4.5->adaptnlp)\n",
      "Requirement already satisfied: sqlitedict>=1.6.0 in /home/andrew/Documents/github/adaptnlp/venv-adaptnlp/lib/python3.6/site-packages (from flair==0.4.5->adaptnlp)\n",
      "Requirement already satisfied: pytest>=5.3.2 in /home/andrew/Documents/github/adaptnlp/venv-adaptnlp/lib/python3.6/site-packages (from flair==0.4.5->adaptnlp)\n",
      "Requirement already satisfied: torch>=1.1.0 in /home/andrew/Documents/github/adaptnlp/venv-adaptnlp/lib/python3.6/site-packages (from flair==0.4.5->adaptnlp)\n",
      "Requirement already satisfied: gensim>=3.4.0 in /home/andrew/Documents/github/adaptnlp/venv-adaptnlp/lib/python3.6/site-packages (from flair==0.4.5->adaptnlp)\n",
      "Requirement already satisfied: scikit-learn>=0.21.3 in /home/andrew/Documents/github/adaptnlp/venv-adaptnlp/lib/python3.6/site-packages (from flair==0.4.5->adaptnlp)\n",
      "Requirement already satisfied: python-dateutil>=2.6.1 in /home/andrew/Documents/github/adaptnlp/venv-adaptnlp/lib/python3.6/site-packages (from flair==0.4.5->adaptnlp)\n",
      "Requirement already satisfied: matplotlib>=2.2.3 in /home/andrew/Documents/github/adaptnlp/venv-adaptnlp/lib/python3.6/site-packages (from flair==0.4.5->adaptnlp)\n",
      "Requirement already satisfied: hyperopt>=0.1.1 in /home/andrew/Documents/github/adaptnlp/venv-adaptnlp/lib/python3.6/site-packages (from flair==0.4.5->adaptnlp)\n",
      "Requirement already satisfied: deprecated>=1.2.4 in /home/andrew/Documents/github/adaptnlp/venv-adaptnlp/lib/python3.6/site-packages (from flair==0.4.5->adaptnlp)\n",
      "Requirement already satisfied: mpld3==0.3 in /home/andrew/Documents/github/adaptnlp/venv-adaptnlp/lib/python3.6/site-packages (from flair==0.4.5->adaptnlp)\n",
      "Requirement already satisfied: tqdm>=4.26.0 in /home/andrew/Documents/github/adaptnlp/venv-adaptnlp/lib/python3.6/site-packages (from flair==0.4.5->adaptnlp)\n",
      "Requirement already satisfied: segtok>=1.5.7 in /home/andrew/Documents/github/adaptnlp/venv-adaptnlp/lib/python3.6/site-packages (from flair==0.4.5->adaptnlp)\n",
      "Requirement already satisfied: langdetect in /home/andrew/Documents/github/adaptnlp/venv-adaptnlp/lib/python3.6/site-packages (from flair==0.4.5->adaptnlp)\n",
      "Requirement already satisfied: bpemb>=0.2.9 in /home/andrew/Documents/github/adaptnlp/venv-adaptnlp/lib/python3.6/site-packages (from flair==0.4.5->adaptnlp)\n",
      "Requirement already satisfied: entrypoints<0.4.0,>=0.3.0 in /home/andrew/Documents/github/adaptnlp/venv-adaptnlp/lib/python3.6/site-packages (from flake8->adaptnlp)\n",
      "Requirement already satisfied: pyflakes<2.2.0,>=2.1.0 in /home/andrew/Documents/github/adaptnlp/venv-adaptnlp/lib/python3.6/site-packages (from flake8->adaptnlp)\n",
      "Requirement already satisfied: pycodestyle<2.6.0,>=2.5.0 in /home/andrew/Documents/github/adaptnlp/venv-adaptnlp/lib/python3.6/site-packages (from flake8->adaptnlp)\n",
      "Requirement already satisfied: mccabe<0.7.0,>=0.6.0 in /home/andrew/Documents/github/adaptnlp/venv-adaptnlp/lib/python3.6/site-packages (from flake8->adaptnlp)\n",
      "Requirement already satisfied: lxml in /home/andrew/Documents/github/adaptnlp/venv-adaptnlp/lib/python3.6/site-packages (from html_text->adaptnlp)\n",
      "Requirement already satisfied: notebook in /home/andrew/Documents/github/adaptnlp/venv-adaptnlp/lib/python3.6/site-packages (from jupyter->adaptnlp)\n",
      "Requirement already satisfied: jupyter-console in /home/andrew/Documents/github/adaptnlp/venv-adaptnlp/lib/python3.6/site-packages (from jupyter->adaptnlp)\n",
      "Requirement already satisfied: qtconsole in /home/andrew/Documents/github/adaptnlp/venv-adaptnlp/lib/python3.6/site-packages (from jupyter->adaptnlp)\n",
      "Requirement already satisfied: nbconvert in /home/andrew/Documents/github/adaptnlp/venv-adaptnlp/lib/python3.6/site-packages (from jupyter->adaptnlp)\n",
      "Requirement already satisfied: ipykernel in /home/andrew/Documents/github/adaptnlp/venv-adaptnlp/lib/python3.6/site-packages (from jupyter->adaptnlp)\n",
      "Requirement already satisfied: ipywidgets in /home/andrew/Documents/github/adaptnlp/venv-adaptnlp/lib/python3.6/site-packages (from jupyter->adaptnlp)\n",
      "Requirement already satisfied: jupyterlab-server~=1.0.0 in /home/andrew/Documents/github/adaptnlp/venv-adaptnlp/lib/python3.6/site-packages (from jupyterlab->adaptnlp)\n",
      "Requirement already satisfied: jinja2>=2.10 in /home/andrew/Documents/github/adaptnlp/venv-adaptnlp/lib/python3.6/site-packages (from jupyterlab->adaptnlp)\n",
      "Requirement already satisfied: tornado!=6.0.0,!=6.0.1,!=6.0.2 in /home/andrew/Documents/github/adaptnlp/venv-adaptnlp/lib/python3.6/site-packages (from jupyterlab->adaptnlp)\n",
      "Requirement already satisfied: numpy in /home/andrew/Documents/github/adaptnlp/venv-adaptnlp/lib/python3.6/site-packages (from transformers==2.8.0->adaptnlp)\n",
      "Requirement already satisfied: sacremoses in /home/andrew/Documents/github/adaptnlp/venv-adaptnlp/lib/python3.6/site-packages (from transformers==2.8.0->adaptnlp)\n",
      "Requirement already satisfied: boto3 in /home/andrew/Documents/github/adaptnlp/venv-adaptnlp/lib/python3.6/site-packages (from transformers==2.8.0->adaptnlp)\n",
      "Requirement already satisfied: requests in /home/andrew/Documents/github/adaptnlp/venv-adaptnlp/lib/python3.6/site-packages (from transformers==2.8.0->adaptnlp)\n",
      "Requirement already satisfied: sentencepiece in /home/andrew/Documents/github/adaptnlp/venv-adaptnlp/lib/python3.6/site-packages (from transformers==2.8.0->adaptnlp)\n",
      "Requirement already satisfied: dataclasses; python_version < \"3.7\" in /home/andrew/Documents/github/adaptnlp/venv-adaptnlp/lib/python3.6/site-packages (from transformers==2.8.0->adaptnlp)\n",
      "Requirement already satisfied: filelock in /home/andrew/Documents/github/adaptnlp/venv-adaptnlp/lib/python3.6/site-packages (from transformers==2.8.0->adaptnlp)\n",
      "Requirement already satisfied: tokenizers==0.5.2 in /home/andrew/Documents/github/adaptnlp/venv-adaptnlp/lib/python3.6/site-packages (from transformers==2.8.0->adaptnlp)\n",
      "Requirement already satisfied: importlib-metadata>=0.12; python_version < \"3.8\" in /home/andrew/Documents/github/adaptnlp/venv-adaptnlp/lib/python3.6/site-packages (from pytest>=5.3.2->flair==0.4.5->adaptnlp)\n",
      "Requirement already satisfied: packaging in /home/andrew/Documents/github/adaptnlp/venv-adaptnlp/lib/python3.6/site-packages (from pytest>=5.3.2->flair==0.4.5->adaptnlp)\n",
      "Requirement already satisfied: pluggy<1.0,>=0.12 in /home/andrew/Documents/github/adaptnlp/venv-adaptnlp/lib/python3.6/site-packages (from pytest>=5.3.2->flair==0.4.5->adaptnlp)\n",
      "Requirement already satisfied: more-itertools>=4.0.0 in /home/andrew/Documents/github/adaptnlp/venv-adaptnlp/lib/python3.6/site-packages (from pytest>=5.3.2->flair==0.4.5->adaptnlp)\n",
      "Requirement already satisfied: wcwidth in /home/andrew/Documents/github/adaptnlp/venv-adaptnlp/lib/python3.6/site-packages (from pytest>=5.3.2->flair==0.4.5->adaptnlp)\n",
      "Requirement already satisfied: py>=1.5.0 in /home/andrew/Documents/github/adaptnlp/venv-adaptnlp/lib/python3.6/site-packages (from pytest>=5.3.2->flair==0.4.5->adaptnlp)\n",
      "Requirement already satisfied: six>=1.5.0 in /home/andrew/Documents/github/adaptnlp/venv-adaptnlp/lib/python3.6/site-packages (from gensim>=3.4.0->flair==0.4.5->adaptnlp)\n",
      "Requirement already satisfied: smart-open>=1.8.1 in /home/andrew/Documents/github/adaptnlp/venv-adaptnlp/lib/python3.6/site-packages (from gensim>=3.4.0->flair==0.4.5->adaptnlp)\n",
      "Requirement already satisfied: scipy>=0.18.1 in /home/andrew/Documents/github/adaptnlp/venv-adaptnlp/lib/python3.6/site-packages (from gensim>=3.4.0->flair==0.4.5->adaptnlp)\n",
      "Requirement already satisfied: joblib>=0.11 in /home/andrew/Documents/github/adaptnlp/venv-adaptnlp/lib/python3.6/site-packages (from scikit-learn>=0.21.3->flair==0.4.5->adaptnlp)\n",
      "Requirement already satisfied: pyparsing!=2.0.4,!=2.1.2,!=2.1.6,>=2.0.1 in /home/andrew/Documents/github/adaptnlp/venv-adaptnlp/lib/python3.6/site-packages (from matplotlib>=2.2.3->flair==0.4.5->adaptnlp)\n",
      "Requirement already satisfied: cycler>=0.10 in /home/andrew/Documents/github/adaptnlp/venv-adaptnlp/lib/python3.6/site-packages (from matplotlib>=2.2.3->flair==0.4.5->adaptnlp)\n",
      "Requirement already satisfied: kiwisolver>=1.0.1 in /home/andrew/Documents/github/adaptnlp/venv-adaptnlp/lib/python3.6/site-packages (from matplotlib>=2.2.3->flair==0.4.5->adaptnlp)\n",
      "Requirement already satisfied: cloudpickle in /home/andrew/Documents/github/adaptnlp/venv-adaptnlp/lib/python3.6/site-packages (from hyperopt>=0.1.1->flair==0.4.5->adaptnlp)\n",
      "Requirement already satisfied: networkx==2.2 in /home/andrew/Documents/github/adaptnlp/venv-adaptnlp/lib/python3.6/site-packages (from hyperopt>=0.1.1->flair==0.4.5->adaptnlp)\n",
      "Requirement already satisfied: future in /home/andrew/Documents/github/adaptnlp/venv-adaptnlp/lib/python3.6/site-packages (from hyperopt>=0.1.1->flair==0.4.5->adaptnlp)\n",
      "Requirement already satisfied: wrapt<2,>=1.10 in /home/andrew/Documents/github/adaptnlp/venv-adaptnlp/lib/python3.6/site-packages (from deprecated>=1.2.4->flair==0.4.5->adaptnlp)\n",
      "Requirement already satisfied: nbformat in /home/andrew/Documents/github/adaptnlp/venv-adaptnlp/lib/python3.6/site-packages (from notebook->jupyter->adaptnlp)\n",
      "Requirement already satisfied: ipython-genutils in /home/andrew/Documents/github/adaptnlp/venv-adaptnlp/lib/python3.6/site-packages (from notebook->jupyter->adaptnlp)\n",
      "Requirement already satisfied: prometheus-client in /home/andrew/Documents/github/adaptnlp/venv-adaptnlp/lib/python3.6/site-packages (from notebook->jupyter->adaptnlp)\n",
      "Requirement already satisfied: Send2Trash in /home/andrew/Documents/github/adaptnlp/venv-adaptnlp/lib/python3.6/site-packages (from notebook->jupyter->adaptnlp)\n",
      "Requirement already satisfied: terminado>=0.8.1 in /home/andrew/Documents/github/adaptnlp/venv-adaptnlp/lib/python3.6/site-packages (from notebook->jupyter->adaptnlp)\n",
      "Requirement already satisfied: traitlets>=4.2.1 in /home/andrew/Documents/github/adaptnlp/venv-adaptnlp/lib/python3.6/site-packages (from notebook->jupyter->adaptnlp)\n",
      "Requirement already satisfied: pyzmq>=17 in /home/andrew/Documents/github/adaptnlp/venv-adaptnlp/lib/python3.6/site-packages (from notebook->jupyter->adaptnlp)\n",
      "Requirement already satisfied: jupyter-client>=5.3.4 in /home/andrew/Documents/github/adaptnlp/venv-adaptnlp/lib/python3.6/site-packages (from notebook->jupyter->adaptnlp)\n",
      "Requirement already satisfied: jupyter-core>=4.6.1 in /home/andrew/Documents/github/adaptnlp/venv-adaptnlp/lib/python3.6/site-packages (from notebook->jupyter->adaptnlp)\n",
      "Requirement already satisfied: ipython in /home/andrew/Documents/github/adaptnlp/venv-adaptnlp/lib/python3.6/site-packages (from jupyter-console->jupyter->adaptnlp)\n",
      "Requirement already satisfied: prompt-toolkit!=3.0.0,!=3.0.1,<3.1.0,>=2.0.0 in /home/andrew/Documents/github/adaptnlp/venv-adaptnlp/lib/python3.6/site-packages (from jupyter-console->jupyter->adaptnlp)\n",
      "Requirement already satisfied: pygments in /home/andrew/Documents/github/adaptnlp/venv-adaptnlp/lib/python3.6/site-packages (from jupyter-console->jupyter->adaptnlp)\n",
      "Requirement already satisfied: qtpy in /home/andrew/Documents/github/adaptnlp/venv-adaptnlp/lib/python3.6/site-packages (from qtconsole->jupyter->adaptnlp)\n",
      "Requirement already satisfied: defusedxml in /home/andrew/Documents/github/adaptnlp/venv-adaptnlp/lib/python3.6/site-packages (from nbconvert->jupyter->adaptnlp)\n",
      "Requirement already satisfied: testpath in /home/andrew/Documents/github/adaptnlp/venv-adaptnlp/lib/python3.6/site-packages (from nbconvert->jupyter->adaptnlp)\n",
      "Requirement already satisfied: bleach in /home/andrew/Documents/github/adaptnlp/venv-adaptnlp/lib/python3.6/site-packages (from nbconvert->jupyter->adaptnlp)\n",
      "Requirement already satisfied: mistune<2,>=0.8.1 in /home/andrew/Documents/github/adaptnlp/venv-adaptnlp/lib/python3.6/site-packages (from nbconvert->jupyter->adaptnlp)\n",
      "Requirement already satisfied: pandocfilters>=1.4.1 in /home/andrew/Documents/github/adaptnlp/venv-adaptnlp/lib/python3.6/site-packages (from nbconvert->jupyter->adaptnlp)\n",
      "Requirement already satisfied: widgetsnbextension~=3.5.0 in /home/andrew/Documents/github/adaptnlp/venv-adaptnlp/lib/python3.6/site-packages (from ipywidgets->jupyter->adaptnlp)\n",
      "Requirement already satisfied: json5 in /home/andrew/Documents/github/adaptnlp/venv-adaptnlp/lib/python3.6/site-packages (from jupyterlab-server~=1.0.0->jupyterlab->adaptnlp)\n",
      "Requirement already satisfied: jsonschema>=3.0.1 in /home/andrew/Documents/github/adaptnlp/venv-adaptnlp/lib/python3.6/site-packages (from jupyterlab-server~=1.0.0->jupyterlab->adaptnlp)\n",
      "Requirement already satisfied: MarkupSafe>=0.23 in /home/andrew/Documents/github/adaptnlp/venv-adaptnlp/lib/python3.6/site-packages (from jinja2>=2.10->jupyterlab->adaptnlp)\n",
      "Requirement already satisfied: botocore<1.16.0,>=1.15.2 in /home/andrew/Documents/github/adaptnlp/venv-adaptnlp/lib/python3.6/site-packages (from boto3->transformers==2.8.0->adaptnlp)\n",
      "Requirement already satisfied: s3transfer<0.4.0,>=0.3.0 in /home/andrew/Documents/github/adaptnlp/venv-adaptnlp/lib/python3.6/site-packages (from boto3->transformers==2.8.0->adaptnlp)\n",
      "Requirement already satisfied: jmespath<1.0.0,>=0.7.1 in /home/andrew/Documents/github/adaptnlp/venv-adaptnlp/lib/python3.6/site-packages (from boto3->transformers==2.8.0->adaptnlp)\n",
      "Requirement already satisfied: certifi>=2017.4.17 in /home/andrew/Documents/github/adaptnlp/venv-adaptnlp/lib/python3.6/site-packages (from requests->transformers==2.8.0->adaptnlp)\n",
      "Requirement already satisfied: idna<2.9,>=2.5 in /home/andrew/Documents/github/adaptnlp/venv-adaptnlp/lib/python3.6/site-packages (from requests->transformers==2.8.0->adaptnlp)\n",
      "Requirement already satisfied: chardet<3.1.0,>=3.0.2 in /home/andrew/Documents/github/adaptnlp/venv-adaptnlp/lib/python3.6/site-packages (from requests->transformers==2.8.0->adaptnlp)\n",
      "Requirement already satisfied: zipp>=0.5 in /home/andrew/Documents/github/adaptnlp/venv-adaptnlp/lib/python3.6/site-packages (from importlib-metadata>=0.12; python_version < \"3.8\"->pytest>=5.3.2->flair==0.4.5->adaptnlp)\n",
      "Requirement already satisfied: boto>=2.32 in /home/andrew/Documents/github/adaptnlp/venv-adaptnlp/lib/python3.6/site-packages (from smart-open>=1.8.1->gensim>=3.4.0->flair==0.4.5->adaptnlp)\n",
      "Requirement already satisfied: setuptools in /home/andrew/Documents/github/adaptnlp/venv-adaptnlp/lib/python3.6/site-packages (from kiwisolver>=1.0.1->matplotlib>=2.2.3->flair==0.4.5->adaptnlp)\n",
      "Requirement already satisfied: decorator>=4.3.0 in /home/andrew/Documents/github/adaptnlp/venv-adaptnlp/lib/python3.6/site-packages (from networkx==2.2->hyperopt>=0.1.1->flair==0.4.5->adaptnlp)\n",
      "Requirement already satisfied: ptyprocess; os_name != \"nt\" in /home/andrew/Documents/github/adaptnlp/venv-adaptnlp/lib/python3.6/site-packages (from terminado>=0.8.1->notebook->jupyter->adaptnlp)\n",
      "Requirement already satisfied: pexpect; sys_platform != \"win32\" in /home/andrew/Documents/github/adaptnlp/venv-adaptnlp/lib/python3.6/site-packages (from ipython->jupyter-console->jupyter->adaptnlp)\n",
      "Requirement already satisfied: jedi>=0.10 in /home/andrew/Documents/github/adaptnlp/venv-adaptnlp/lib/python3.6/site-packages (from ipython->jupyter-console->jupyter->adaptnlp)\n",
      "Requirement already satisfied: pickleshare in /home/andrew/Documents/github/adaptnlp/venv-adaptnlp/lib/python3.6/site-packages (from ipython->jupyter-console->jupyter->adaptnlp)\n",
      "Requirement already satisfied: backcall in /home/andrew/Documents/github/adaptnlp/venv-adaptnlp/lib/python3.6/site-packages (from ipython->jupyter-console->jupyter->adaptnlp)\n",
      "Requirement already satisfied: webencodings in /home/andrew/Documents/github/adaptnlp/venv-adaptnlp/lib/python3.6/site-packages (from bleach->nbconvert->jupyter->adaptnlp)\n",
      "Requirement already satisfied: pyrsistent>=0.14.0 in /home/andrew/Documents/github/adaptnlp/venv-adaptnlp/lib/python3.6/site-packages (from jsonschema>=3.0.1->jupyterlab-server~=1.0.0->jupyterlab->adaptnlp)\n",
      "Requirement already satisfied: docutils<0.16,>=0.10 in /home/andrew/Documents/github/adaptnlp/venv-adaptnlp/lib/python3.6/site-packages (from botocore<1.16.0,>=1.15.2->boto3->transformers==2.8.0->adaptnlp)\n",
      "Requirement already satisfied: parso>=0.5.2 in /home/andrew/Documents/github/adaptnlp/venv-adaptnlp/lib/python3.6/site-packages (from jedi>=0.10->ipython->jupyter-console->jupyter->adaptnlp)\n"
     ]
    }
   ],
   "source": [
    "!pip install adaptnlp"
   ]
  },
  {
   "cell_type": "markdown",
   "metadata": {
    "colab_type": "text",
    "id": "lTU-_49uQeiS"
   },
   "source": [
    "### *Prerequisite: Show Unstructured Text Example*"
   ]
  },
  {
   "cell_type": "code",
   "execution_count": 2,
   "metadata": {
    "colab": {
     "base_uri": "https://localhost:8080/",
     "height": 70
    },
    "colab_type": "code",
    "id": "nhTD_DggbjdD",
    "jupyter": {
     "source_hidden": true
    },
    "outputId": "331207f4-d864-4fda-f3e1-93033568f249"
   },
   "outputs": [
    {
     "data": {
      "text/html": [
       "\n",
       "<!DOCTYPE html>\n",
       "<html>\n",
       "<head>\n",
       "<meta name=\"viewport\" content=\"width=device-width, initial-scale=1\">\n",
       "<style>\n",
       ".collapsible {\n",
       "  background-color: #777;\n",
       "  color: white;\n",
       "  cursor: pointer;\n",
       "  padding: 18px;\n",
       "  width: 100%;\n",
       "  border: none;\n",
       "  text-align: left;\n",
       "  outline: none;\n",
       "  font-size: 15px;\n",
       "}\n",
       "\n",
       ".active, .collapsible:hover {\n",
       "  background-color: #555;\n",
       "}\n",
       "\n",
       ".content {\n",
       "  padding: 0 18px;\n",
       "  display: none;\n",
       "  overflow: hidden;\n",
       "  background-color: #f1f1f1;\n",
       "}\n",
       "</style>\n",
       "</head>\n",
       "<body>\n",
       "\n",
       "<button type=\"button\" class=\"collapsible\">Example Unstructured Text</button>\n",
       "<div class=\"content\">\n",
       "  <p>\n",
       "The history (and prehistory) of the United States, started with the arrival of Native Americans before 15,000 B.C. Numerous indigenous cultures formed, and many disappeared before 1500. The arrival of Christopher Columbus in the year 1492 started the European colonization of the Americas. Most colonies were formed after 1600, and the early records and writings of John Winthrop make the United States the first nation whose most distant origins are fully recorded.[1] By the 1760s, the thirteen British colonies contained 2.5 million people along the Atlantic Coast east of the Appalachian Mountains. After defeating France, the British government imposed a series of taxes, including the Stamp Act of 1765, rejecting the colonists' constitutional argument that new taxes needed their approval. Resistance to these taxes, especially the Boston Tea Party in 1773, led to Parliament issuing punitive laws designed to end self-government in Massachusetts.\n",
       "\n",
       "Armed conflict began in 1775. In 1776, in Philadelphia, the Second Continental Congress declared the independence of the colonies as the United States. Led by General George Washington, it won the Revolutionary War with large support from France. The peace treaty of 1783 gave the land east of the Mississippi River (except Canada and Florida) to the new nation. The Articles of Confederation established a central government, but it was ineffectual at providing stability as it could not collect taxes and had no executive officer. A convention in 1787 wrote a new Constitution that was adopted in 1789. In 1791, a Bill of Rights was added to guarantee inalienable rights. With Washington as the first president and Alexander Hamilton his chief adviser, a strong central government was created. Purchase of the Louisiana Territory from France in 1803 doubled the size of the United States. A second and final war with Britain was fought in 1812, which solidified national pride.\n",
       "\n",
       "Encouraged by the notion of manifest destiny, U.S. territory expanded all the way to the Pacific Coast. While the United States was large in terms of area, by 1790 its population was only 4 million. It grew rapidly, however, reaching 7.2 million in 1810, 32 million in 1860, 76 million in 1900, 132 million in 1940, and 321 million in 2015. Economic growth in terms of overall GDP was even greater. Compared to European powers, though, the nation's military strength was relatively limited in peacetime before 1940. Westward expansion was driven by a quest for inexpensive land for yeoman farmers and slave owners. The expansion of slavery was increasingly controversial and fueled political and constitutional battles, which were resolved by compromises. Slavery was abolished in all states north of the Mason–Dixon line by 1804, but the South continued to profit from the institution, mostly from the production of cotton. Republican Abraham Lincoln was elected president in 1860 on a platform of halting the expansion of slavery.\n",
       "\n",
       "Seven Southern slave states rebelled and created the foundation of the Confederacy. Its attack of Fort Sumter against the Union forces there in 1861 started the Civil War. Defeat of the Confederates in 1865 led to the impoverishment of the South and the abolition of slavery. In the Reconstruction era following the war, legal and voting rights were extended to freed slaves. The national government emerged much stronger, and because of the Fourteenth Amendment in 1868, it gained explicit duty to protect individual rights. However, when white Democrats regained their power in the South in 1877, often by paramilitary suppression of voting, they passed Jim Crow laws to maintain white supremacy, as well as new disenfranchising state constitutions that prevented most African Americans and many poor whites from voting. This continued until the gains of the civil rights movement in the 1960s and the passage of federal legislation to enforce uniform constitutional rights for all citizens.\n",
       "\n",
       "The United States became the world's leading industrial power at the turn of the 20th century, due to an outburst of entrepreneurship and industrialization in the Northeast and Midwest and the arrival of millions of immigrant workers and farmers from Europe. A national railroad network was completed and large-scale mines and factories were established. Mass dissatisfaction with corruption, inefficiency, and traditional politics stimulated the Progressive movement, from the 1890s to 1920s. This era led to many reforms, including the Sixteenth to Nineteenth constitutional amendments, which brought the federal income tax, direct election of Senators, prohibition, and women's suffrage. Initially neutral during World War I, the United States declared war on Germany in 1917 and funded the Allied victory the following year. Women obtained the right to vote in 1920, with Native Americans obtaining citizenship and the right to vote in 1924.\n",
       "\n",
       "After a prosperous decade in the 1920s, the Wall Street Crash of 1929 marked the onset of the decade-long worldwide Great Depression. Democratic President Franklin D. Roosevelt ended the Republican dominance of the White House and implemented his New Deal programs, which included relief for the unemployed, support for farmers, Social Security and a minimum wage. The New Deal defined modern American liberalism. After the Japanese attack on Pearl Harbor in 1941, the United States entered World War II and financed the Allied war effort and helped defeat Nazi Germany in the European theater. Its involvement culminated in using newly-invented nuclear weapons on two Japanese cities to defeat Imperial Japan in the Pacific theater.\n",
       "\n",
       "The United States and the Soviet Union emerged as rival superpowers in the aftermath of World War II. During the Cold War, the two countries confronted each other indirectly in the arms race, the Space Race, proxy wars, and propaganda campaigns. The goal of the United States in this was to stop the spread of communism. In the 1960s, in large part due to the strength of the civil rights movement, another wave of social reforms was enacted which enforced the constitutional rights of voting and freedom of movement to African Americans and other racial minorities. The Cold War ended when the Soviet Union was officially dissolved in 1991, leaving the United States as the world's only superpower.\n",
       "\n",
       "After the Cold War, the United States's foreign policy has focused on modern conflicts in the Middle East. The beginning of the 21st century saw the September 11 attacks carried out by Al-Qaeda in 2001, which was later followed by wars in Afghanistan and Iraq. In 2007, the United States entered its worst economic crisis since the Great Depression, which was followed by slower-than-usual rates of economic growth during the early 2010s. Economic growth and unemployment rates recovered by the late 2010s, however new economic disruption began in 2020 due to the 2019-20 coronavirus pandemic.\n",
       "</p>\n",
       "</div>\n",
       "\n",
       "<script>\n",
       "var coll = document.getElementsByClassName(\"collapsible\");\n",
       "var i;\n",
       "\n",
       "for (i = 0; i < coll.length; i++) {\n",
       "  coll[i].addEventListener(\"click\", function() {\n",
       "    this.classList.toggle(\"active\");\n",
       "    var content = this.nextElementSibling;\n",
       "    if (content.style.display === \"block\") {\n",
       "      content.style.display = \"none\";\n",
       "    } else {\n",
       "      content.style.display = \"block\";\n",
       "    }\n",
       "  });\n",
       "}\n",
       "</script>\n",
       "\n",
       "</body>\n",
       "</html>\n"
      ],
      "text/plain": [
       "<IPython.core.display.HTML object>"
      ]
     },
     "metadata": {},
     "output_type": "display_data"
    }
   ],
   "source": [
    "from IPython.core.display import HTML, display\n",
    "\n",
    "example_text = \"\"\"\n",
    "The history (and prehistory) of the United States, started with the arrival of Native Americans before 15,000 B.C. Numerous indigenous cultures formed, and many disappeared before 1500. The arrival of Christopher Columbus in the year 1492 started the European colonization of the Americas. Most colonies were formed after 1600, and the early records and writings of John Winthrop make the United States the first nation whose most distant origins are fully recorded.[1] By the 1760s, the thirteen British colonies contained 2.5 million people along the Atlantic Coast east of the Appalachian Mountains. After defeating France, the British government imposed a series of taxes, including the Stamp Act of 1765, rejecting the colonists' constitutional argument that new taxes needed their approval. Resistance to these taxes, especially the Boston Tea Party in 1773, led to Parliament issuing punitive laws designed to end self-government in Massachusetts.\n",
    "\n",
    "Armed conflict began in 1775. In 1776, in Philadelphia, the Second Continental Congress declared the independence of the colonies as the United States. Led by General George Washington, it won the Revolutionary War with large support from France. The peace treaty of 1783 gave the land east of the Mississippi River (except Canada and Florida) to the new nation. The Articles of Confederation established a central government, but it was ineffectual at providing stability as it could not collect taxes and had no executive officer. A convention in 1787 wrote a new Constitution that was adopted in 1789. In 1791, a Bill of Rights was added to guarantee inalienable rights. With Washington as the first president and Alexander Hamilton his chief adviser, a strong central government was created. Purchase of the Louisiana Territory from France in 1803 doubled the size of the United States. A second and final war with Britain was fought in 1812, which solidified national pride.\n",
    "\n",
    "Encouraged by the notion of manifest destiny, U.S. territory expanded all the way to the Pacific Coast. While the United States was large in terms of area, by 1790 its population was only 4 million. It grew rapidly, however, reaching 7.2 million in 1810, 32 million in 1860, 76 million in 1900, 132 million in 1940, and 321 million in 2015. Economic growth in terms of overall GDP was even greater. Compared to European powers, though, the nation's military strength was relatively limited in peacetime before 1940. Westward expansion was driven by a quest for inexpensive land for yeoman farmers and slave owners. The expansion of slavery was increasingly controversial and fueled political and constitutional battles, which were resolved by compromises. Slavery was abolished in all states north of the Mason–Dixon line by 1804, but the South continued to profit from the institution, mostly from the production of cotton. Republican Abraham Lincoln was elected president in 1860 on a platform of halting the expansion of slavery.\n",
    "\n",
    "Seven Southern slave states rebelled and created the foundation of the Confederacy. Its attack of Fort Sumter against the Union forces there in 1861 started the Civil War. Defeat of the Confederates in 1865 led to the impoverishment of the South and the abolition of slavery. In the Reconstruction era following the war, legal and voting rights were extended to freed slaves. The national government emerged much stronger, and because of the Fourteenth Amendment in 1868, it gained explicit duty to protect individual rights. However, when white Democrats regained their power in the South in 1877, often by paramilitary suppression of voting, they passed Jim Crow laws to maintain white supremacy, as well as new disenfranchising state constitutions that prevented most African Americans and many poor whites from voting. This continued until the gains of the civil rights movement in the 1960s and the passage of federal legislation to enforce uniform constitutional rights for all citizens.\n",
    "\n",
    "The United States became the world's leading industrial power at the turn of the 20th century, due to an outburst of entrepreneurship and industrialization in the Northeast and Midwest and the arrival of millions of immigrant workers and farmers from Europe. A national railroad network was completed and large-scale mines and factories were established. Mass dissatisfaction with corruption, inefficiency, and traditional politics stimulated the Progressive movement, from the 1890s to 1920s. This era led to many reforms, including the Sixteenth to Nineteenth constitutional amendments, which brought the federal income tax, direct election of Senators, prohibition, and women's suffrage. Initially neutral during World War I, the United States declared war on Germany in 1917 and funded the Allied victory the following year. Women obtained the right to vote in 1920, with Native Americans obtaining citizenship and the right to vote in 1924.\n",
    "\n",
    "After a prosperous decade in the 1920s, the Wall Street Crash of 1929 marked the onset of the decade-long worldwide Great Depression. Democratic President Franklin D. Roosevelt ended the Republican dominance of the White House and implemented his New Deal programs, which included relief for the unemployed, support for farmers, Social Security and a minimum wage. The New Deal defined modern American liberalism. After the Japanese attack on Pearl Harbor in 1941, the United States entered World War II and financed the Allied war effort and helped defeat Nazi Germany in the European theater. Its involvement culminated in using newly-invented nuclear weapons on two Japanese cities to defeat Imperial Japan in the Pacific theater.\n",
    "\n",
    "The United States and the Soviet Union emerged as rival superpowers in the aftermath of World War II. During the Cold War, the two countries confronted each other indirectly in the arms race, the Space Race, proxy wars, and propaganda campaigns. The goal of the United States in this was to stop the spread of communism. In the 1960s, in large part due to the strength of the civil rights movement, another wave of social reforms was enacted which enforced the constitutional rights of voting and freedom of movement to African Americans and other racial minorities. The Cold War ended when the Soviet Union was officially dissolved in 1991, leaving the United States as the world's only superpower.\n",
    "\n",
    "After the Cold War, the United States's foreign policy has focused on modern conflicts in the Middle East. The beginning of the 21st century saw the September 11 attacks carried out by Al-Qaeda in 2001, which was later followed by wars in Afghanistan and Iraq. In 2007, the United States entered its worst economic crisis since the Great Depression, which was followed by slower-than-usual rates of economic growth during the early 2010s. Economic growth and unemployment rates recovered by the late 2010s, however new economic disruption began in 2020 due to the 2019-20 coronavirus pandemic.\n",
    "\"\"\"\n",
    "example_text_html = f\"\"\"\n",
    "<!DOCTYPE html>\n",
    "<html>\n",
    "<head>\n",
    "<meta name=\"viewport\" content=\"width=device-width, initial-scale=1\">\n",
    "<style>\n",
    ".collapsible {{\n",
    "  background-color: #777;\n",
    "  color: white;\n",
    "  cursor: pointer;\n",
    "  padding: 18px;\n",
    "  width: 100%;\n",
    "  border: none;\n",
    "  text-align: left;\n",
    "  outline: none;\n",
    "  font-size: 15px;\n",
    "}}\n",
    "\n",
    ".active, .collapsible:hover {{\n",
    "  background-color: #555;\n",
    "}}\n",
    "\n",
    ".content {{\n",
    "  padding: 0 18px;\n",
    "  display: none;\n",
    "  overflow: hidden;\n",
    "  background-color: #f1f1f1;\n",
    "}}\n",
    "</style>\n",
    "</head>\n",
    "<body>\n",
    "\n",
    "<button type=\"button\" class=\"collapsible\">Example Unstructured Text</button>\n",
    "<div class=\"content\">\n",
    "  <p>{example_text}</p>\n",
    "</div>\n",
    "\n",
    "<script>\n",
    "var coll = document.getElementsByClassName(\"collapsible\");\n",
    "var i;\n",
    "\n",
    "for (i = 0; i < coll.length; i++) {{\n",
    "  coll[i].addEventListener(\"click\", function() {{\n",
    "    this.classList.toggle(\"active\");\n",
    "    var content = this.nextElementSibling;\n",
    "    if (content.style.display === \"block\") {{\n",
    "      content.style.display = \"none\";\n",
    "    }} else {{\n",
    "      content.style.display = \"block\";\n",
    "    }}\n",
    "  }});\n",
    "}}\n",
    "</script>\n",
    "\n",
    "</body>\n",
    "</html>\n",
    "\"\"\"\n",
    "\n",
    "display(HTML(example_text_html))\n"
   ]
  },
  {
   "cell_type": "markdown",
   "metadata": {
    "colab_type": "text",
    "id": "sDsFKgqvQubU"
   },
   "source": [
    "### *Prerequisite: Download Models and Generate Final Timeline*"
   ]
  },
  {
   "cell_type": "code",
   "execution_count": 3,
   "metadata": {
    "colab": {
     "base_uri": "https://localhost:8080/",
     "height": 1000
    },
    "colab_type": "code",
    "id": "n5KDs8JPbjdH",
    "jupyter": {
     "source_hidden": true
    },
    "outputId": "6c2dd366-b686-455e-cd1a-eca1b70d2bb1"
   },
   "outputs": [
    {
     "name": "stderr",
     "output_type": "stream",
     "text": [
      "Summarizing: 100%|██████████| 1/1 [00:05<00:00,  5.79s/it]\n",
      "Translating: 100%|██████████| 1/1 [00:01<00:00,  1.14s/it]"
     ]
    },
    {
     "name": "stdout",
     "output_type": "stream",
     "text": [
      "2020-04-17 07:42:43,057 loading file /home/andrew/.flair/models/en-ner-ontonotes-fast-v0.4.pt\n"
     ]
    },
    {
     "name": "stderr",
     "output_type": "stream",
     "text": [
      "\n",
      "convert squad examples to features: 100%|██████████| 1/1 [00:00<00:00, 24.69it/s]\n",
      "add example index and unique id: 100%|██████████| 1/1 [00:00<00:00, 4452.55it/s]\n",
      "Predicting answer: 100%|██████████| 8/8 [00:00<00:00, 16.73it/s]\n",
      "convert squad examples to features: 100%|██████████| 34/34 [00:01<00:00, 26.00it/s]\n",
      "add example index and unique id: 100%|██████████| 34/34 [00:00<00:00, 96813.53it/s]\n",
      "Predicting answer: 100%|██████████| 28/28 [00:13<00:00,  2.06it/s]\n"
     ]
    },
    {
     "data": {
      "image/png": "[encoded data removed]",
      "text/plain": [
       "<Figure size 1440x432 with 1 Axes>"
      ]
     },
     "metadata": {
      "needs_background": "light"
     },
     "output_type": "display_data"
    },
    {
     "data": {
      "text/html": [
       "\n",
       "<!DOCTYPE html>\n",
       "<html>\n",
       "<head>\n",
       "<style>\n",
       ".item0 { grid-area: timeline; }\n",
       ".item1 { grid-area: header; }\n",
       ".item2 { grid-area: menu; }\n",
       ".item3 { grid-area: main; }\n",
       ".item4 { grid-area: right; }\n",
       "\n",
       ".grid-container {\n",
       "  display: grid;\n",
       "  grid-template:\n",
       "    'timeline timeline timeline timeline timeline timeline'\n",
       "    'header header main main right right'\n",
       "    'menu menu main main right right';\n",
       "\n",
       "  grid-gap: 5px;\n",
       "  background-color: #777;\n",
       "  padding: 5px;\n",
       "}\n",
       "\n",
       ".grid-container > div {\n",
       "  background-color: rgba(255, 255, 255, .9);\n",
       "  text-align: center;\n",
       "  padding: 20px;\n",
       "  font-size: 12px;\n",
       "}\n",
       "</style>\n",
       "</head>\n",
       "<body>\n",
       "\n",
       "<div class=\"grid-container\">\n",
       "  <div class=\"item0\">\n",
       "    <h2>Extracted Metadata using AdaptNLP</h2>\n",
       "  </div>\n",
       "  <div class=\"item1\">\n",
       "    <h3>Summary: </h3>\n",
       "    <p style=\"text-align: center\">the history (and prehistory) of the united states, started with the arrival of Native Americans before 15,000 B.C. Numerous indigenous cultures formed, and many disappeared before 1500 . most colonies were formed after 1600, and the early records and writings of John Winthrop make the United States the first nation whose most distant origins are fully recorded . after the Cold War, the United States' foreign policy has focused on modern conflicts in the middle east .</p>\n",
       "  </div>\n",
       "  <div class=\"item2\">\n",
       "    <h3>Translated French Summary: </h3>\n",
       "    <p style=\"text-align: center\">l’histoire (et la préhistoire) des États-Unis, a commencé avec l’arrivée des Amérindiens avant 15 000 avant J.-C. De nombreuses cultures autochtones se sont formées et beaucoup ont disparu avant 1500. . La plupart des colonies ont été formées après 1600, et les premiers écrits et inscriptions de John Winthrop font des États-Unis la première nation dont les origines les plus lointaines sont pleinement consignées. . Après la guerre froide, la politique étrangère des États-Unis s'est concentrée sur les conflits modernes au Moyen-Orient .</p>\n",
       "  </div>\n",
       "  <div class=\"item3\">\n",
       "    <h3>Extracted Entities: </h3>\n",
       "    <p style=\"text-align: left\"><br><b>1.</b> {'confidence': 0.9803352753321329,<br> 'end_pos': 50,<br> 'start_pos': 33,<br> 'text': 'the United States',<br> 'type': 'GPE'}<br><b>2.</b> {'confidence': 0.8275306522846222,<br> 'end_pos': 96,<br> 'start_pos': 80,<br> 'text': 'Native Americans',<br> 'type': 'NORP'}<br><b>3.</b> {'confidence': 0.5552719682455063,<br> 'end_pos': 114,<br> 'start_pos': 104,<br> 'text': '15,000 B.C',<br> 'type': 'QUANTITY'}<br><b>4.</b> {'confidence': 0.45405638217926025,<br> 'end_pos': 185,<br> 'start_pos': 181,<br> 'text': '1500',<br> 'type': 'CARDINAL'}<br><b>5.</b> {'confidence': 0.9279175698757172,<br> 'end_pos': 222,<br> 'start_pos': 202,<br> 'text': 'Christopher Columbus',<br> 'type': 'PERSON'}<br><b>6.</b> {'confidence': 0.7337905367215475,<br> 'end_pos': 239,<br> 'start_pos': 226,<br> 'text': 'the year 1492',<br> 'type': 'DATE'}</p>\n",
       "  </div>  \n",
       "  <div class=\"item4\">\n",
       "    <h3>Top Answers to the Question: <br><em>\"What happened in 1776?\"</em></h3>\n",
       "    <p style=\"text-align: left\"><br><b>1.</b> {'end_index': 161,<br> 'end_logit': 6.734649658203125,<br> 'probability': 0.6591935551942545,<br> 'start_index': 152,<br> 'start_logit': 6.128000259399414,<br> 'text': 'the Second Continental Congress declared the independence of the '<br>         'colonies'}<br><b>2.</b> {'end_index': 165,<br> 'end_logit': 7.89698600769043,<br> 'probability': 0.12667736640200739,<br> 'start_index': 156,<br> 'start_logit': 3.3162901401519775,<br> 'text': 'declared the independence of the colonies as the United States'}<br><b>3.</b> {'end_index': 161,<br> 'end_logit': 6.734649658203125,<br> 'probability': 0.10098427606851884,<br> 'start_index': 153,<br> 'start_logit': 4.25194787979126,<br> 'text': 'Second Continental Congress declared the independence of the '<br>         'colonies'}<br><b>4.</b> {'end_index': 158,<br> 'end_logit': 4.541269779205322,<br> 'probability': 0.07352587042364919,<br> 'start_index': 152,<br> 'start_logit': 6.128000259399414,<br> 'text': 'the Second Continental Congress declared the independence'}<br><b>5.</b> {'end_index': 161,<br> 'end_logit': 6.734649658203125,<br> 'probability': 0.039618931911570204,<br> 'start_index': 156,<br> 'start_logit': 3.3162901401519775,<br> 'text': 'declared the independence of the colonies'}</p>\n",
       "  </div>\n",
       "</div>\n",
       "\n",
       "</body>\n",
       "</html>\n"
      ],
      "text/plain": [
       "<IPython.core.display.HTML object>"
      ]
     },
     "metadata": {},
     "output_type": "display_data"
    }
   ],
   "source": [
    "from adaptnlp import (\n",
    "    EasyTokenTagger,\n",
    "    EasySequenceClassifier,\n",
    "    EasyQuestionAnswering,\n",
    "    EasySummarizer,\n",
    "    EasyTranslator,\n",
    "    EasyDocumentEmbeddings,\n",
    ")\n",
    "from dateutil.parser import parse\n",
    "import matplotlib.pyplot as plt\n",
    "import numpy as np\n",
    "import matplotlib.dates as mdates\n",
    "import pprint\n",
    "\n",
    "# Summary\n",
    "summarizer = EasySummarizer()\n",
    "summary = summarizer.summarize(text=example_text, model_name_or_path=\"t5-base\", mini_batch_size=1, num_beams=4, min_length=100, max_length=200)\n",
    "summary = summary[0]\n",
    "\n",
    "# Translation of Summary\n",
    "translator = EasyTranslator()\n",
    "translated_summary = translator.translate(text=summary.split(\" . \"), model_name_or_path=\"t5-base\", t5_prefix=\"translate English to French\", mini_batch_size=3, min_length=0, max_length=200)\n",
    "translated_summary = \" . \".join(translated_summary)\n",
    "\n",
    "# NER\n",
    "nl = \"\\n\" # For f-string formatting\n",
    "tagger = EasyTokenTagger()\n",
    "sentences = tagger.tag_text(text=example_text, model_name_or_path=\"ner-ontonotes-fast\", mini_batch_size=32)\n",
    "ner_dict = sentences[0].to_dict(\"ner\")\n",
    "ner_dict = [f\"<b>{i+1}.</b> {pprint.pformat(ent).replace(nl,'<br>')}\" for i, ent in enumerate(ner_dict[\"entities\"][:6])]\n",
    "ner_html = \"<br>\" + \"<br>\".join(ner_dict)\n",
    "\n",
    "# QA\n",
    "qa = EasyQuestionAnswering()\n",
    "_, top_n = qa.predict_qa(query=\"What happened in 1776?\", context=example_text, model_name_or_path=\"bert-large-cased-whole-word-masking-finetuned-squad\", n_best_size=5, mini_batch_size=1)\n",
    "top_n = [f\"<b>{i+1}.</b> {pprint.pformat(dict(ans)).replace(nl,'<br>')}\" for i, ans in enumerate(top_n)]\n",
    "top_n_html = \"<br>\" + \"<br>\".join(top_n)    \n",
    "    \n",
    "# Timeline\n",
    "dates = []\n",
    "for span in sentences[0].get_spans(\"ner\"):\n",
    "  if span.tag == \"DATE\":\n",
    "    dates.append(span.text)\n",
    "dates = sorted(dates)\n",
    "\n",
    "dates_map = {}\n",
    "for d in dates:\n",
    "  try:\n",
    "    dates_map[d] = parse(d, fuzzy=True)\n",
    "  except:\n",
    "    pass\n",
    "\n",
    "answers_map = {}\n",
    "answer, _ = qa.predict_qa(query=[f\"What happened in {t}\" for t in dates_map.keys()], context = [example_text]*len(dates_map.keys()), model_name_or_path=\"bert-large-cased-whole-word-masking-finetuned-squad\", n_best_size=7, mini_batch_size=10)\n",
    "\n",
    "def generate_timeline(names_mat: list, dates_mat: list):\n",
    "  # Choose levels\n",
    "  levels = np.tile([-30, 30, -20, 20, -12, 12, -7, 7, -1, 1], int(np.ceil(len(dates_mat)/10)))[:len(dates_mat)]\n",
    "\n",
    "  # Create figure and plot a stem plot with the date\n",
    "  fig, ax = plt.subplots(figsize=(20, 6), constrained_layout=True)\n",
    "  ax.set_title(\"Timeline of Significant Events in U.S. History\", fontsize=30, fontweight='bold')\n",
    "  markerline, stemline, baseline = ax.stem(dates_mat, levels, linefmt=\"C3-\", basefmt=\"k-\", use_line_collection=True)\n",
    "  plt.setp(markerline, mec=\"k\", mfc=\"w\", zorder=3)\n",
    "\n",
    "  # Shift the markers to the baseline by replacing the y-data by zeros.\n",
    "  markerline.set_ydata(np.zeros(len(dates_mat)))\n",
    "\n",
    "  # Annotate lines\n",
    "  vert = np.array(['top', 'bottom'])[(levels > 0).astype(int)]\n",
    "  for d, l, r, va in zip(dates_mat, levels, names_mat, vert):\n",
    "    ax.annotate(r, xy=(d, l), xytext=(-3, np.sign(l)*3), textcoords=\"offset points\", va=va, ha=\"right\")\n",
    "\n",
    "  # Format xaxis with AutoDateLocator\n",
    "  ax.get_xaxis().set_major_locator(mdates.AutoDateLocator())\n",
    "  ax.get_xaxis().set_major_formatter(mdates.DateFormatter(\"%b %Y\"))\n",
    "  plt.setp(ax.get_xticklabels(), rotation=30, ha=\"right\")\n",
    "\n",
    "  # Remove y axis and spines\n",
    "  ax.get_yaxis().set_visible(False)\n",
    "  for spine in [\"left\", \"top\", \"right\"]:\n",
    "    ax.spines[spine].set_visible(False)\n",
    "\n",
    "  ax.margins(y=0.1)\n",
    "  plt.show()\n",
    "\n",
    "names_mat = list(answer.values()) [:30]\n",
    "dates_mat = list(dates_map.values()) [:30]   \n",
    "\n",
    "generate_timeline(names_mat=names_mat, dates_mat=dates_mat)\n",
    "    \n",
    "html = f\"\"\"\n",
    "<!DOCTYPE html>\n",
    "<html>\n",
    "<head>\n",
    "<style>\n",
    ".item0 {{ grid-area: timeline; }}\n",
    ".item1 {{ grid-area: header; }}\n",
    ".item2 {{ grid-area: menu; }}\n",
    ".item3 {{ grid-area: main; }}\n",
    ".item4 {{ grid-area: right; }}\n",
    "\n",
    ".grid-container {{\n",
    "  display: grid;\n",
    "  grid-template:\n",
    "    'timeline timeline timeline timeline timeline timeline'\n",
    "    'header header main main right right'\n",
    "    'menu menu main main right right';\n",
    "\n",
    "  grid-gap: 5px;\n",
    "  background-color: #777;\n",
    "  padding: 5px;\n",
    "}}\n",
    "\n",
    ".grid-container > div {{\n",
    "  background-color: rgba(255, 255, 255, .9);\n",
    "  text-align: center;\n",
    "  padding: 20px;\n",
    "  font-size: 12px;\n",
    "}}\n",
    "</style>\n",
    "</head>\n",
    "<body>\n",
    "\n",
    "<div class=\"grid-container\">\n",
    "  <div class=\"item0\">\n",
    "    <h2>Extracted Metadata using AdaptNLP</h2>\n",
    "  </div>\n",
    "  <div class=\"item1\">\n",
    "    <h3>Summary: </h3>\n",
    "    <p style=\"text-align: center\">{summary}</p>\n",
    "  </div>\n",
    "  <div class=\"item2\">\n",
    "    <h3>Translated French Summary: </h3>\n",
    "    <p style=\"text-align: center\">{translated_summary}</p>\n",
    "  </div>\n",
    "  <div class=\"item3\">\n",
    "    <h3>Extracted Entities: </h3>\n",
    "    <p style=\"text-align: left\">{ner_html}</p>\n",
    "  </div>  \n",
    "  <div class=\"item4\">\n",
    "    <h3>Top Answers to the Question: <br><em>\"What happened in 1776?\"</em></h3>\n",
    "    <p style=\"text-align: left\">{top_n_html}</p>\n",
    "  </div>\n",
    "</div>\n",
    "\n",
    "</body>\n",
    "</html>\n",
    "\"\"\"\n",
    "display(HTML(html))"
   ]
  },
  {
   "cell_type": "markdown",
   "metadata": {
    "colab_type": "text",
    "id": "G1z0m-16bjdK"
   },
   "source": [
    "# 2. Run NLP Tasks: Summarization, Translation, Named Entity Recognition (NER), and Question Answering (QA)\n",
    "\n",
    "### [Documentation and Guides](http://novetta.github.io/adaptnlp)"
   ]
  },
  {
   "cell_type": "markdown",
   "metadata": {
    "colab_type": "text",
    "id": "tVQB_OZAbjdK"
   },
   "source": [
    "### *Import \"Easy\" NLP Task Modules with AdaptNLP*"
   ]
  },
  {
   "cell_type": "code",
   "execution_count": 4,
   "metadata": {
    "colab": {},
    "colab_type": "code",
    "id": "ip3bd4gKbjdL"
   },
   "outputs": [],
   "source": [
    "from adaptnlp import EasySummarizer, EasyTranslator, EasyTokenTagger, EasyQuestionAnswering"
   ]
  },
  {
   "cell_type": "markdown",
   "metadata": {
    "colab_type": "text",
    "id": "uj3CCkvrbjdN"
   },
   "source": [
    "### *Set Example Text*"
   ]
  },
  {
   "cell_type": "code",
   "execution_count": 5,
   "metadata": {
    "colab": {},
    "colab_type": "code",
    "id": "bBJ0Twb0bjdO"
   },
   "outputs": [],
   "source": [
    "text = \"\"\"\n",
    "The history (and prehistory) of the United States, started with the arrival of Native Americans before 15,000 B.C. Numerous indigenous cultures formed, and many disappeared before 1500. The arrival of Christopher Columbus in the year 1492 started the European colonization of the Americas. Most colonies were formed after 1600, and the early records and writings of John Winthrop make the United States the first nation whose most distant origins are fully recorded.[1] By the 1760s, the thirteen British colonies contained 2.5 million people along the Atlantic Coast east of the Appalachian Mountains. After defeating France, the British government imposed a series of taxes, including the Stamp Act of 1765, rejecting the colonists' constitutional argument that new taxes needed their approval. Resistance to these taxes, especially the Boston Tea Party in 1773, led to Parliament issuing punitive laws designed to end self-government in Massachusetts.\n",
    "\n",
    "Armed conflict began in 1775. In 1776, in Philadelphia, the Second Continental Congress declared the independence of the colonies as the United States. Led by General George Washington, it won the Revolutionary War with large support from France. The peace treaty of 1783 gave the land east of the Mississippi River (except Canada and Florida) to the new nation. The Articles of Confederation established a central government, but it was ineffectual at providing stability as it could not collect taxes and had no executive officer. A convention in 1787 wrote a new Constitution that was adopted in 1789. In 1791, a Bill of Rights was added to guarantee inalienable rights. With Washington as the first president and Alexander Hamilton his chief adviser, a strong central government was created. Purchase of the Louisiana Territory from France in 1803 doubled the size of the United States. A second and final war with Britain was fought in 1812, which solidified national pride.\n",
    "\n",
    "Encouraged by the notion of manifest destiny, U.S. territory expanded all the way to the Pacific Coast. While the United States was large in terms of area, by 1790 its population was only 4 million. It grew rapidly, however, reaching 7.2 million in 1810, 32 million in 1860, 76 million in 1900, 132 million in 1940, and 321 million in 2015. Economic growth in terms of overall GDP was even greater. Compared to European powers, though, the nation's military strength was relatively limited in peacetime before 1940. Westward expansion was driven by a quest for inexpensive land for yeoman farmers and slave owners. The expansion of slavery was increasingly controversial and fueled political and constitutional battles, which were resolved by compromises. Slavery was abolished in all states north of the Mason–Dixon line by 1804, but the South continued to profit from the institution, mostly from the production of cotton. Republican Abraham Lincoln was elected president in 1860 on a platform of halting the expansion of slavery.\n",
    "\n",
    "Seven Southern slave states rebelled and created the foundation of the Confederacy. Its attack of Fort Sumter against the Union forces there in 1861 started the Civil War. Defeat of the Confederates in 1865 led to the impoverishment of the South and the abolition of slavery. In the Reconstruction era following the war, legal and voting rights were extended to freed slaves. The national government emerged much stronger, and because of the Fourteenth Amendment in 1868, it gained explicit duty to protect individual rights. However, when white Democrats regained their power in the South in 1877, often by paramilitary suppression of voting, they passed Jim Crow laws to maintain white supremacy, as well as new disenfranchising state constitutions that prevented most African Americans and many poor whites from voting. This continued until the gains of the civil rights movement in the 1960s and the passage of federal legislation to enforce uniform constitutional rights for all citizens.\n",
    "\n",
    "The United States became the world's leading industrial power at the turn of the 20th century, due to an outburst of entrepreneurship and industrialization in the Northeast and Midwest and the arrival of millions of immigrant workers and farmers from Europe. A national railroad network was completed and large-scale mines and factories were established. Mass dissatisfaction with corruption, inefficiency, and traditional politics stimulated the Progressive movement, from the 1890s to 1920s. This era led to many reforms, including the Sixteenth to Nineteenth constitutional amendments, which brought the federal income tax, direct election of Senators, prohibition, and women's suffrage. Initially neutral during World War I, the United States declared war on Germany in 1917 and funded the Allied victory the following year. Women obtained the right to vote in 1920, with Native Americans obtaining citizenship and the right to vote in 1924.\n",
    "\n",
    "After a prosperous decade in the 1920s, the Wall Street Crash of 1929 marked the onset of the decade-long worldwide Great Depression. Democratic President Franklin D. Roosevelt ended the Republican dominance of the White House and implemented his New Deal programs, which included relief for the unemployed, support for farmers, Social Security and a minimum wage. The New Deal defined modern American liberalism. After the Japanese attack on Pearl Harbor in 1941, the United States entered World War II and financed the Allied war effort and helped defeat Nazi Germany in the European theater. Its involvement culminated in using newly-invented nuclear weapons on two Japanese cities to defeat Imperial Japan in the Pacific theater.\n",
    "\n",
    "The United States and the Soviet Union emerged as rival superpowers in the aftermath of World War II. During the Cold War, the two countries confronted each other indirectly in the arms race, the Space Race, proxy wars, and propaganda campaigns. The goal of the United States in this was to stop the spread of communism. In the 1960s, in large part due to the strength of the civil rights movement, another wave of social reforms was enacted which enforced the constitutional rights of voting and freedom of movement to African Americans and other racial minorities. The Cold War ended when the Soviet Union was officially dissolved in 1991, leaving the United States as the world's only superpower.\n",
    "\n",
    "After the Cold War, the United States's foreign policy has focused on modern conflicts in the Middle East. The beginning of the 21st century saw the September 11 attacks carried out by Al-Qaeda in 2001, which was later followed by wars in Afghanistan and Iraq. In 2007, the United States entered its worst economic crisis since the Great Depression, which was followed by slower-than-usual rates of economic growth during the early 2010s. Economic growth and unemployment rates recovered by the late 2010s, however new economic disruption began in 2020 due to the 2019-20 coronavirus pandemic. \n",
    "\"\"\""
   ]
  },
  {
   "cell_type": "markdown",
   "metadata": {
    "colab_type": "text",
    "id": "Txj2DaBybjdQ"
   },
   "source": [
    "### *Summarize*"
   ]
  },
  {
   "cell_type": "code",
   "execution_count": 6,
   "metadata": {
    "colab": {},
    "colab_type": "code",
    "id": "ypP3eEpxbjdR"
   },
   "outputs": [],
   "source": [
    "summarizer = EasySummarizer()"
   ]
  },
  {
   "cell_type": "code",
   "execution_count": 7,
   "metadata": {
    "colab": {
     "base_uri": "https://localhost:8080/",
     "height": 34
    },
    "colab_type": "code",
    "id": "RdRof1QbbjdT",
    "outputId": "a9505366-18fe-4dfe-fa19-8e9e08652700"
   },
   "outputs": [
    {
     "name": "stderr",
     "output_type": "stream",
     "text": [
      "Summarizing: 100%|██████████| 1/1 [00:05<00:00,  5.73s/it]\n"
     ]
    }
   ],
   "source": [
    "summary = summarizer.summarize(\n",
    "    text = text,\n",
    "    model_name_or_path = \"t5-base\",\n",
    "    mini_batch_size = 1,\n",
    "    num_beams = 4,\n",
    "    min_length = 100,\n",
    "    max_length = 200,\n",
    ")"
   ]
  },
  {
   "cell_type": "code",
   "execution_count": 8,
   "metadata": {
    "colab": {
     "base_uri": "https://localhost:8080/",
     "height": 69
    },
    "colab_type": "code",
    "id": "L9BnjJt8T26l",
    "outputId": "7a7bc879-d242-4890-f9a7-3b41442c2520"
   },
   "outputs": [
    {
     "data": {
      "text/plain": [
       "['the history (and prehistory) of the united states, started with the arrival of Native Americans before 15,000 B.C. Numerous indigenous cultures formed, and many disappeared before 1500',\n",
       " 'most colonies were formed after 1600, and the early records and writings of John Winthrop make the United States the first nation whose most distant origins are fully recorded',\n",
       " \"after the Cold War, the United States' foreign policy has focused on modern conflicts in the middle east .\"]"
      ]
     },
     "execution_count": 8,
     "metadata": {},
     "output_type": "execute_result"
    }
   ],
   "source": [
    "summary[0]\n",
    "summary = summary[0].split(\" . \")\n",
    "summary"
   ]
  },
  {
   "cell_type": "markdown",
   "metadata": {
    "colab_type": "text",
    "id": "2CO1jx6YT4L-"
   },
   "source": [
    "### *Translate*"
   ]
  },
  {
   "cell_type": "code",
   "execution_count": 9,
   "metadata": {
    "colab": {},
    "colab_type": "code",
    "id": "bKwyjCdmT3sZ"
   },
   "outputs": [],
   "source": [
    "translator = EasyTranslator()"
   ]
  },
  {
   "cell_type": "code",
   "execution_count": 10,
   "metadata": {
    "colab": {
     "base_uri": "https://localhost:8080/",
     "height": 34
    },
    "colab_type": "code",
    "id": "REqtz8zpT5gI",
    "outputId": "f407a45e-8cf9-4a71-80b9-123c91200de4"
   },
   "outputs": [
    {
     "name": "stderr",
     "output_type": "stream",
     "text": [
      "Translating: 100%|██████████| 1/1 [00:01<00:00,  1.14s/it]\n"
     ]
    }
   ],
   "source": [
    "translated_summary = translator.translate(\n",
    "    text = summary,\n",
    "    model_name_or_path = \"t5-base\",\n",
    "    t5_prefix = \"translate English to French\",\n",
    "    mini_batch_size = 3,\n",
    "    num_beams = 1,\n",
    "    min_length = 0,\n",
    "    max_length = 200,\n",
    ")"
   ]
  },
  {
   "cell_type": "code",
   "execution_count": 11,
   "metadata": {
    "colab": {
     "base_uri": "https://localhost:8080/",
     "height": 69
    },
    "colab_type": "code",
    "id": "YFS-5qDWT65N",
    "outputId": "e7fabd73-dc07-488f-a34a-558810644637"
   },
   "outputs": [
    {
     "data": {
      "text/plain": [
       "['l’histoire (et la préhistoire) des États-Unis, a commencé avec l’arrivée des Amérindiens avant 15 000 avant J.-C. De nombreuses cultures autochtones se sont formées et beaucoup ont disparu avant 1500.',\n",
       " 'La plupart des colonies ont été formées après 1600, et les premiers écrits et inscriptions de John Winthrop font des États-Unis la première nation dont les origines les plus lointaines sont pleinement consignées.',\n",
       " \"Après la guerre froide, la politique étrangère des États-Unis s'est concentrée sur les conflits modernes au Moyen-Orient .\"]"
      ]
     },
     "execution_count": 11,
     "metadata": {},
     "output_type": "execute_result"
    }
   ],
   "source": [
    "translated_summary"
   ]
  },
  {
   "cell_type": "markdown",
   "metadata": {
    "colab_type": "text",
    "id": "y3HpUHWtT9Qf"
   },
   "source": [
    "### *Named Entity Recognition (NER)*"
   ]
  },
  {
   "cell_type": "code",
   "execution_count": 12,
   "metadata": {
    "colab": {},
    "colab_type": "code",
    "id": "tLPsgfE2T_nf"
   },
   "outputs": [],
   "source": [
    "tagger = EasyTokenTagger()"
   ]
  },
  {
   "cell_type": "code",
   "execution_count": 13,
   "metadata": {
    "colab": {
     "base_uri": "https://localhost:8080/",
     "height": 34
    },
    "colab_type": "code",
    "id": "AynCfDSjUAJ5",
    "outputId": "551463a9-87a3-4803-dc62-e7a8855d2c63"
   },
   "outputs": [
    {
     "name": "stdout",
     "output_type": "stream",
     "text": [
      "2020-04-17 07:43:22,060 loading file /home/andrew/.flair/models/en-ner-ontonotes-fast-v0.4.pt\n"
     ]
    }
   ],
   "source": [
    "sentences = tagger.tag_text(\n",
    "    text = text,\n",
    "    model_name_or_path = \"ner-ontonotes-fast\",\n",
    "    mini_batch_size = 32,\n",
    ")"
   ]
  },
  {
   "cell_type": "code",
   "execution_count": 14,
   "metadata": {
    "colab": {
     "base_uri": "https://localhost:8080/",
     "height": 1000
    },
    "colab_type": "code",
    "id": "xqSrGIreUAgC",
    "outputId": "d15b9fe9-0d2b-4a3f-ba55-09bef15f19ab"
   },
   "outputs": [
    {
     "data": {
      "text/plain": [
       "[<GPE-span (8,9,10): \"the United States\">,\n",
       " <NORP-span (17,18): \"Native Americans\">,\n",
       " <QUANTITY-span (20,21): \"15,000 B.C\">,\n",
       " <CARDINAL-span (32): \"1500\">,\n",
       " <PERSON-span (37,38): \"Christopher Columbus\">,\n",
       " <DATE-span (40,41,42): \"the year 1492\">,\n",
       " <NORP-span (45): \"European\">,\n",
       " <LOC-span (49): \"Americas\">,\n",
       " <CARDINAL-span (56): \"1600\">,\n",
       " <PERSON-span (65,66): \"John Winthrop\">,\n",
       " <GPE-span (68,69,70): \"the United States\">,\n",
       " <ORDINAL-span (72): \"first\">,\n",
       " <DATE-span (85,86): \"the 1760s\">,\n",
       " <CARDINAL-span (89): \"thirteen\">,\n",
       " <NORP-span (90): \"British\">,\n",
       " <CARDINAL-span (93,94): \"2.5 million\">,\n",
       " <LOC-span (97,98,99): \"the Atlantic Coast\">,\n",
       " <LOC-span (102,103,104): \"the Appalachian Mountains\">,\n",
       " <GPE-span (108): \"France\">,\n",
       " <NORP-span (111): \"British\">,\n",
       " <LAW-span (120,121,122): \"the Stamp Act\">,\n",
       " <DATE-span (124): \"1765\">,\n",
       " <ORG-span (144,145,146,147): \"the Boston Tea Party\">,\n",
       " <DATE-span (149): \"1773\">,\n",
       " <ORG-span (153): \"Parliament\">,\n",
       " <GPE-span (162): \"Massachusetts\">,\n",
       " <DATE-span (168): \"1775\">,\n",
       " <DATE-span (171): \"1776\">,\n",
       " <GPE-span (174): \"Philadelphia\">,\n",
       " <ORG-span (176,177,178,179): \"the Second Continental Congress\">,\n",
       " <GPE-span (187,188,189): \"the United States\">,\n",
       " <PERSON-span (194,195): \"George Washington\">,\n",
       " <EVENT-span (199,200,201): \"the Revolutionary War\">,\n",
       " <GPE-span (206): \"France\">,\n",
       " <DATE-span (212): \"1783\">,\n",
       " <LOC-span (218,219,220): \"the Mississippi River\">,\n",
       " <GPE-span (223): \"Canada\">,\n",
       " <GPE-span (225): \"Florida\">,\n",
       " <ORG-span (232,233,234,235): \"The Articles of Confederation\">,\n",
       " <DATE-span (263): \"1787\">,\n",
       " <LAW-span (267): \"Constitution\">,\n",
       " <DATE-span (272): \"1789\">,\n",
       " <DATE-span (275): \"1791\">,\n",
       " <LAW-span (277,278,279,280): \"a Bill of Rights\">,\n",
       " <GPE-span (289): \"Washington\">,\n",
       " <ORDINAL-span (292): \"first\">,\n",
       " <PERSON-span (295,296): \"Alexander Hamilton\">,\n",
       " <GPE-span (310,311,312): \"the Louisiana Territory\">,\n",
       " <GPE-span (314): \"France\">,\n",
       " <DATE-span (316): \"1803\">,\n",
       " <GPE-span (321,322,323): \"the United States\">,\n",
       " <ORDINAL-span (326): \"second\">,\n",
       " <GPE-span (331): \"Britain\">,\n",
       " <DATE-span (335): \"1812\">,\n",
       " <GPE-span (350): \"U.S.\">,\n",
       " <LOC-span (357,358,359): \"the Pacific Coast\">,\n",
       " <GPE-span (362,363,364): \"the United States\">,\n",
       " <DATE-span (373): \"1790\">,\n",
       " <CARDINAL-span (378,379): \"4 million\">,\n",
       " <CARDINAL-span (388,389): \"7.2 million\">,\n",
       " <DATE-span (391): \"1810\">,\n",
       " <CARDINAL-span (393,394): \"32 million\">,\n",
       " <DATE-span (396): \"1860\">,\n",
       " <CARDINAL-span (398,399): \"76 million\">,\n",
       " <DATE-span (401): \"1900\">,\n",
       " <CARDINAL-span (403,404): \"132 million\">,\n",
       " <DATE-span (406): \"1940\">,\n",
       " <CARDINAL-span (409,410): \"321 million\">,\n",
       " <DATE-span (412): \"2015\">,\n",
       " <NORP-span (427): \"European\">,\n",
       " <DATE-span (443): \"1940\">,\n",
       " <GPE-span (491): \"Mason\">,\n",
       " <GPE-span (493): \"Dixon\">,\n",
       " <DATE-span (496): \"1804\">,\n",
       " <LOC-span (500): \"South\">,\n",
       " <NORP-span (515): \"Republican\">,\n",
       " <PERSON-span (516,517): \"Abraham Lincoln\">,\n",
       " <DATE-span (522): \"1860\">,\n",
       " <CARDINAL-span (533): \"Seven\">,\n",
       " <NORP-span (534): \"Southern\">,\n",
       " <ORG-span (544): \"Confederacy\">,\n",
       " <FAC-span (549,550): \"Fort Sumter\">,\n",
       " <ORG-span (553): \"Union\">,\n",
       " <DATE-span (557): \"1861\">,\n",
       " <EVENT-span (559,560,561): \"the Civil War\">,\n",
       " <NORP-span (566): \"Confederates\">,\n",
       " <DATE-span (568): \"1865\">,\n",
       " <LOC-span (575): \"South\">,\n",
       " <DATE-span (583,584,585): \"the Reconstruction era\">,\n",
       " <LAW-span (610,611,612): \"the Fourteenth Amendment\">,\n",
       " <DATE-span (614): \"1868\">,\n",
       " <NORP-span (629): \"Democrats\">,\n",
       " <LOC-span (635): \"South\">,\n",
       " <DATE-span (637): \"1877\">,\n",
       " <PERSON-span (648,649): \"Jim Crow\">,\n",
       " <NORP-span (666,667): \"African Americans\">,\n",
       " <DATE-span (686,687): \"the 1960s\">,\n",
       " <GPE-span (703,704,705): \"The United States\">,\n",
       " <DATE-span (714,715,716,717,718,719): \"the turn of the 20th century\">,\n",
       " <LOC-span (731): \"Northeast\">,\n",
       " <LOC-span (733): \"Midwest\">,\n",
       " <CARDINAL-span (738): \"millions\">,\n",
       " <LOC-span (745): \"Europe\">,\n",
       " <NORP-span (773): \"Progressive\">,\n",
       " <DATE-span (777,778,779,780): \"the 1890s to 1920s\">,\n",
       " <DATE-span (782,783): \"This era\">,\n",
       " <ORDINAL-span (791): \"Sixteenth\">,\n",
       " <ORDINAL-span (793): \"Nineteenth\">,\n",
       " <EVENT-span (819,820,821): \"World War I\">,\n",
       " <GPE-span (823,824,825): \"the United States\">,\n",
       " <GPE-span (829): \"Germany\">,\n",
       " <DATE-span (831): \"1917\">,\n",
       " <ORG-span (835): \"Allied\">,\n",
       " <DATE-span (837,838,839): \"the following year\">,\n",
       " <DATE-span (848): \"1920\">,\n",
       " <NORP-span (851,852): \"Native Americans\">,\n",
       " <DATE-span (861): \"1924\">,\n",
       " <DATE-span (864,865,866): \"a prosperous decade\">,\n",
       " <DATE-span (868,869): \"the 1920s\">,\n",
       " <EVENT-span (871,872,873,874): \"the Wall Street Crash\">,\n",
       " <DATE-span (876): \"1929\">,\n",
       " <NORP-span (887): \"Democratic\">,\n",
       " <PERSON-span (889,890,891): \"Franklin D. Roosevelt\">,\n",
       " <NORP-span (894): \"Republican\">,\n",
       " <ORG-span (897,898,899): \"the White House\">,\n",
       " <ORG-span (918,919): \"Social Security\">,\n",
       " <NORP-span (930): \"American\">,\n",
       " <NORP-span (935): \"Japanese\">,\n",
       " <GPE-span (938,939): \"Pearl Harbor\">,\n",
       " <DATE-span (941): \"1941\">,\n",
       " <GPE-span (943,944,945): \"the United States\">,\n",
       " <EVENT-span (947,948,949): \"World War II\">,\n",
       " <NORP-span (959): \"Nazi\">,\n",
       " <GPE-span (960): \"Germany\">,\n",
       " <NORP-span (963): \"European\">,\n",
       " <CARDINAL-span (975): \"two\">,\n",
       " <NORP-span (976): \"Japanese\">,\n",
       " <GPE-span (981): \"Japan\">,\n",
       " <LOC-span (984): \"Pacific\">,\n",
       " <GPE-span (987,988,989): \"The United States\">,\n",
       " <GPE-span (991,992,993): \"the Soviet Union\">,\n",
       " <EVENT-span (1002,1003,1004): \"World War II\">,\n",
       " <EVENT-span (1007,1008,1009): \"the Cold War\">,\n",
       " <CARDINAL-span (1012): \"two\">,\n",
       " <EVENT-span (1023,1024,1025): \"the Space Race\">,\n",
       " <GPE-span (1037,1038,1039): \"the United States\">,\n",
       " <DATE-span (1051,1052): \"the 1960s\">,\n",
       " <NORP-span (1086,1087): \"African Americans\">,\n",
       " <EVENT-span (1093,1094,1095): \"The Cold War\">,\n",
       " <GPE-span (1098,1099,1100): \"the Soviet Union\">,\n",
       " <DATE-span (1105): \"1991\">,\n",
       " <GPE-span (1108,1109,1110): \"the United States\">,\n",
       " <EVENT-span (1119,1120,1121): \"the Cold War\">,\n",
       " <GPE-span (1123,1124,1125,1126): \"the United States 's\">,\n",
       " <LOC-span (1135,1136,1137): \"the Middle East\">,\n",
       " <DATE-span (1142,1143,1144): \"the 21st century\">,\n",
       " <DATE-span (1147,1148): \"September 11\">,\n",
       " <ORG-span (1153): \"Al-Qaeda\">,\n",
       " <DATE-span (1155): \"2001\">,\n",
       " <GPE-span (1164): \"Afghanistan\">,\n",
       " <GPE-span (1166): \"Iraq\">,\n",
       " <DATE-span (1169): \"2007\">,\n",
       " <GPE-span (1171,1172,1173): \"the United States\">,\n",
       " <EVENT-span (1180,1181,1182): \"the Great Depression\">,\n",
       " <DATE-span (1194,1195,1196): \"the early 2010s\">,\n",
       " <DATE-span (1205,1206,1207): \"the late 2010s\">,\n",
       " <DATE-span (1215): \"2020\">,\n",
       " <DATE-span (1219): \"2019-20\">]"
      ]
     },
     "execution_count": 14,
     "metadata": {},
     "output_type": "execute_result"
    }
   ],
   "source": [
    "sentences[0].get_spans(\"ner\")"
   ]
  },
  {
   "cell_type": "markdown",
   "metadata": {
    "colab_type": "text",
    "id": "09Pss3ZmUA4q"
   },
   "source": [
    "### *Question Answering*"
   ]
  },
  {
   "cell_type": "code",
   "execution_count": 15,
   "metadata": {
    "colab": {},
    "colab_type": "code",
    "id": "om0x2dAsUBel"
   },
   "outputs": [],
   "source": [
    "qa = EasyQuestionAnswering()"
   ]
  },
  {
   "cell_type": "code",
   "execution_count": 16,
   "metadata": {
    "colab": {
     "base_uri": "https://localhost:8080/",
     "height": 69
    },
    "colab_type": "code",
    "id": "RA0y7IDUUB3m",
    "outputId": "46aca9f1-758f-4135-9d65-5f729098975e"
   },
   "outputs": [
    {
     "name": "stderr",
     "output_type": "stream",
     "text": [
      "convert squad examples to features: 100%|██████████| 1/1 [00:00<00:00, 24.09it/s]\n",
      "add example index and unique id: 100%|██████████| 1/1 [00:00<00:00, 2783.21it/s]\n",
      "Predicting answer: 100%|██████████| 8/8 [00:00<00:00, 16.74it/s]\n"
     ]
    }
   ],
   "source": [
    "answer, top_n = qa.predict_qa(\n",
    "    context = text,\n",
    "    query = \"What happened in 1776?\",\n",
    "    model_name_or_path = \"bert-large-cased-whole-word-masking-finetuned-squad\",\n",
    "    mini_batch_size = 1,\n",
    "    n_best_size = 5,\n",
    ")"
   ]
  },
  {
   "cell_type": "code",
   "execution_count": 17,
   "metadata": {
    "colab": {
     "base_uri": "https://localhost:8080/",
     "height": 625
    },
    "colab_type": "code",
    "id": "fiNzsE8-UCSW",
    "outputId": "399a6d5b-f804-42ec-b574-cba6134046c7"
   },
   "outputs": [
    {
     "data": {
      "text/plain": [
       "('the Second Continental Congress declared the independence of the colonies',\n",
       " [OrderedDict([('text',\n",
       "                'the Second Continental Congress declared the independence of the colonies'),\n",
       "               ('probability', 0.6591935551942545),\n",
       "               ('start_logit', 6.128000259399414),\n",
       "               ('end_logit', 6.734649658203125),\n",
       "               ('start_index', 152),\n",
       "               ('end_index', 161)]),\n",
       "  OrderedDict([('text',\n",
       "                'declared the independence of the colonies as the United States'),\n",
       "               ('probability', 0.12667736640200739),\n",
       "               ('start_logit', 3.3162901401519775),\n",
       "               ('end_logit', 7.89698600769043),\n",
       "               ('start_index', 156),\n",
       "               ('end_index', 165)]),\n",
       "  OrderedDict([('text',\n",
       "                'Second Continental Congress declared the independence of the colonies'),\n",
       "               ('probability', 0.10098427606851884),\n",
       "               ('start_logit', 4.25194787979126),\n",
       "               ('end_logit', 6.734649658203125),\n",
       "               ('start_index', 153),\n",
       "               ('end_index', 161)]),\n",
       "  OrderedDict([('text',\n",
       "                'the Second Continental Congress declared the independence'),\n",
       "               ('probability', 0.07352587042364919),\n",
       "               ('start_logit', 6.128000259399414),\n",
       "               ('end_logit', 4.541269779205322),\n",
       "               ('start_index', 152),\n",
       "               ('end_index', 158)]),\n",
       "  OrderedDict([('text', 'declared the independence of the colonies'),\n",
       "               ('probability', 0.039618931911570204),\n",
       "               ('start_logit', 3.3162901401519775),\n",
       "               ('end_logit', 6.734649658203125),\n",
       "               ('start_index', 156),\n",
       "               ('end_index', 161)])])"
      ]
     },
     "execution_count": 17,
     "metadata": {},
     "output_type": "execute_result"
    }
   ],
   "source": [
    "answer, top_n"
   ]
  },
  {
   "cell_type": "markdown",
   "metadata": {
    "colab_type": "text",
    "id": "L1tl2lFAbjdl"
   },
   "source": [
    "# 3. Generate the Timeline: NER and QA"
   ]
  },
  {
   "cell_type": "markdown",
   "metadata": {
    "colab_type": "text",
    "id": "rwj55himbjdm"
   },
   "source": [
    "### *Run NER Task to Extract \"Date\" Tagged Entities*"
   ]
  },
  {
   "cell_type": "code",
   "execution_count": 18,
   "metadata": {
    "colab": {},
    "colab_type": "code",
    "id": "Fil8QESMbjdm"
   },
   "outputs": [],
   "source": [
    "sentences = tagger.tag_text(\n",
    "    text = text,\n",
    "    model_name_or_path = \"ner-ontonotes-fast\",\n",
    "    mini_batch_size = 1,\n",
    ")"
   ]
  },
  {
   "cell_type": "code",
   "execution_count": 19,
   "metadata": {
    "colab": {
     "base_uri": "https://localhost:8080/",
     "height": 1000
    },
    "colab_type": "code",
    "id": "5di_Vo_Bbjdo",
    "outputId": "8bab20ca-3dc3-43a4-946e-99acabd69ab0"
   },
   "outputs": [
    {
     "data": {
      "text/plain": [
       "[<GPE-span (8,9,10): \"the United States\">,\n",
       " <NORP-span (17,18): \"Native Americans\">,\n",
       " <QUANTITY-span (20,21): \"15,000 B.C\">,\n",
       " <CARDINAL-span (32): \"1500\">,\n",
       " <PERSON-span (37,38): \"Christopher Columbus\">,\n",
       " <DATE-span (40,41,42): \"the year 1492\">,\n",
       " <NORP-span (45): \"European\">,\n",
       " <LOC-span (49): \"Americas\">,\n",
       " <CARDINAL-span (56): \"1600\">,\n",
       " <PERSON-span (65,66): \"John Winthrop\">,\n",
       " <GPE-span (68,69,70): \"the United States\">,\n",
       " <ORDINAL-span (72): \"first\">,\n",
       " <DATE-span (85,86): \"the 1760s\">,\n",
       " <CARDINAL-span (89): \"thirteen\">,\n",
       " <NORP-span (90): \"British\">,\n",
       " <CARDINAL-span (93,94): \"2.5 million\">,\n",
       " <LOC-span (97,98,99): \"the Atlantic Coast\">,\n",
       " <LOC-span (102,103,104): \"the Appalachian Mountains\">,\n",
       " <GPE-span (108): \"France\">,\n",
       " <NORP-span (111): \"British\">,\n",
       " <LAW-span (120,121,122): \"the Stamp Act\">,\n",
       " <DATE-span (124): \"1765\">,\n",
       " <ORG-span (144,145,146,147): \"the Boston Tea Party\">,\n",
       " <DATE-span (149): \"1773\">,\n",
       " <ORG-span (153): \"Parliament\">,\n",
       " <GPE-span (162): \"Massachusetts\">,\n",
       " <DATE-span (168): \"1775\">,\n",
       " <DATE-span (171): \"1776\">,\n",
       " <GPE-span (174): \"Philadelphia\">,\n",
       " <ORG-span (176,177,178,179): \"the Second Continental Congress\">,\n",
       " <GPE-span (187,188,189): \"the United States\">,\n",
       " <PERSON-span (194,195): \"George Washington\">,\n",
       " <EVENT-span (199,200,201): \"the Revolutionary War\">,\n",
       " <GPE-span (206): \"France\">,\n",
       " <DATE-span (212): \"1783\">,\n",
       " <LOC-span (218,219,220): \"the Mississippi River\">,\n",
       " <GPE-span (223): \"Canada\">,\n",
       " <GPE-span (225): \"Florida\">,\n",
       " <ORG-span (232,233,234,235): \"The Articles of Confederation\">,\n",
       " <DATE-span (263): \"1787\">,\n",
       " <LAW-span (267): \"Constitution\">,\n",
       " <DATE-span (272): \"1789\">,\n",
       " <DATE-span (275): \"1791\">,\n",
       " <LAW-span (277,278,279,280): \"a Bill of Rights\">,\n",
       " <GPE-span (289): \"Washington\">,\n",
       " <ORDINAL-span (292): \"first\">,\n",
       " <PERSON-span (295,296): \"Alexander Hamilton\">,\n",
       " <GPE-span (310,311,312): \"the Louisiana Territory\">,\n",
       " <GPE-span (314): \"France\">,\n",
       " <DATE-span (316): \"1803\">,\n",
       " <GPE-span (321,322,323): \"the United States\">,\n",
       " <ORDINAL-span (326): \"second\">,\n",
       " <GPE-span (331): \"Britain\">,\n",
       " <DATE-span (335): \"1812\">,\n",
       " <GPE-span (350): \"U.S.\">,\n",
       " <LOC-span (357,358,359): \"the Pacific Coast\">,\n",
       " <GPE-span (362,363,364): \"the United States\">,\n",
       " <DATE-span (373): \"1790\">,\n",
       " <CARDINAL-span (378,379): \"4 million\">,\n",
       " <CARDINAL-span (388,389): \"7.2 million\">,\n",
       " <DATE-span (391): \"1810\">,\n",
       " <CARDINAL-span (393,394): \"32 million\">,\n",
       " <DATE-span (396): \"1860\">,\n",
       " <CARDINAL-span (398,399): \"76 million\">,\n",
       " <DATE-span (401): \"1900\">,\n",
       " <CARDINAL-span (403,404): \"132 million\">,\n",
       " <DATE-span (406): \"1940\">,\n",
       " <CARDINAL-span (409,410): \"321 million\">,\n",
       " <DATE-span (412): \"2015\">,\n",
       " <NORP-span (427): \"European\">,\n",
       " <DATE-span (443): \"1940\">,\n",
       " <GPE-span (491): \"Mason\">,\n",
       " <GPE-span (493): \"Dixon\">,\n",
       " <DATE-span (496): \"1804\">,\n",
       " <LOC-span (500): \"South\">,\n",
       " <NORP-span (515): \"Republican\">,\n",
       " <PERSON-span (516,517): \"Abraham Lincoln\">,\n",
       " <DATE-span (522): \"1860\">,\n",
       " <CARDINAL-span (533): \"Seven\">,\n",
       " <NORP-span (534): \"Southern\">,\n",
       " <ORG-span (544): \"Confederacy\">,\n",
       " <FAC-span (549,550): \"Fort Sumter\">,\n",
       " <ORG-span (553): \"Union\">,\n",
       " <DATE-span (557): \"1861\">,\n",
       " <EVENT-span (559,560,561): \"the Civil War\">,\n",
       " <NORP-span (566): \"Confederates\">,\n",
       " <DATE-span (568): \"1865\">,\n",
       " <LOC-span (575): \"South\">,\n",
       " <DATE-span (583,584,585): \"the Reconstruction era\">,\n",
       " <LAW-span (610,611,612): \"the Fourteenth Amendment\">,\n",
       " <DATE-span (614): \"1868\">,\n",
       " <NORP-span (629): \"Democrats\">,\n",
       " <LOC-span (635): \"South\">,\n",
       " <DATE-span (637): \"1877\">,\n",
       " <PERSON-span (648,649): \"Jim Crow\">,\n",
       " <NORP-span (666,667): \"African Americans\">,\n",
       " <DATE-span (686,687): \"the 1960s\">,\n",
       " <GPE-span (703,704,705): \"The United States\">,\n",
       " <DATE-span (714,715,716,717,718,719): \"the turn of the 20th century\">,\n",
       " <LOC-span (731): \"Northeast\">,\n",
       " <LOC-span (733): \"Midwest\">,\n",
       " <CARDINAL-span (738): \"millions\">,\n",
       " <LOC-span (745): \"Europe\">,\n",
       " <NORP-span (773): \"Progressive\">,\n",
       " <DATE-span (777,778,779,780): \"the 1890s to 1920s\">,\n",
       " <DATE-span (782,783): \"This era\">,\n",
       " <ORDINAL-span (791): \"Sixteenth\">,\n",
       " <ORDINAL-span (793): \"Nineteenth\">,\n",
       " <EVENT-span (819,820,821): \"World War I\">,\n",
       " <GPE-span (823,824,825): \"the United States\">,\n",
       " <GPE-span (829): \"Germany\">,\n",
       " <DATE-span (831): \"1917\">,\n",
       " <ORG-span (835): \"Allied\">,\n",
       " <DATE-span (837,838,839): \"the following year\">,\n",
       " <DATE-span (848): \"1920\">,\n",
       " <NORP-span (851,852): \"Native Americans\">,\n",
       " <DATE-span (861): \"1924\">,\n",
       " <DATE-span (864,865,866): \"a prosperous decade\">,\n",
       " <DATE-span (868,869): \"the 1920s\">,\n",
       " <EVENT-span (871,872,873,874): \"the Wall Street Crash\">,\n",
       " <DATE-span (876): \"1929\">,\n",
       " <NORP-span (887): \"Democratic\">,\n",
       " <PERSON-span (889,890,891): \"Franklin D. Roosevelt\">,\n",
       " <NORP-span (894): \"Republican\">,\n",
       " <ORG-span (897,898,899): \"the White House\">,\n",
       " <ORG-span (918,919): \"Social Security\">,\n",
       " <NORP-span (930): \"American\">,\n",
       " <NORP-span (935): \"Japanese\">,\n",
       " <GPE-span (938,939): \"Pearl Harbor\">,\n",
       " <DATE-span (941): \"1941\">,\n",
       " <GPE-span (943,944,945): \"the United States\">,\n",
       " <EVENT-span (947,948,949): \"World War II\">,\n",
       " <NORP-span (959): \"Nazi\">,\n",
       " <GPE-span (960): \"Germany\">,\n",
       " <NORP-span (963): \"European\">,\n",
       " <CARDINAL-span (975): \"two\">,\n",
       " <NORP-span (976): \"Japanese\">,\n",
       " <GPE-span (981): \"Japan\">,\n",
       " <LOC-span (984): \"Pacific\">,\n",
       " <GPE-span (987,988,989): \"The United States\">,\n",
       " <GPE-span (991,992,993): \"the Soviet Union\">,\n",
       " <EVENT-span (1002,1003,1004): \"World War II\">,\n",
       " <EVENT-span (1007,1008,1009): \"the Cold War\">,\n",
       " <CARDINAL-span (1012): \"two\">,\n",
       " <EVENT-span (1023,1024,1025): \"the Space Race\">,\n",
       " <GPE-span (1037,1038,1039): \"the United States\">,\n",
       " <DATE-span (1051,1052): \"the 1960s\">,\n",
       " <NORP-span (1086,1087): \"African Americans\">,\n",
       " <EVENT-span (1093,1094,1095): \"The Cold War\">,\n",
       " <GPE-span (1098,1099,1100): \"the Soviet Union\">,\n",
       " <DATE-span (1105): \"1991\">,\n",
       " <GPE-span (1108,1109,1110): \"the United States\">,\n",
       " <EVENT-span (1119,1120,1121): \"the Cold War\">,\n",
       " <GPE-span (1123,1124,1125,1126): \"the United States 's\">,\n",
       " <LOC-span (1135,1136,1137): \"the Middle East\">,\n",
       " <DATE-span (1142,1143,1144): \"the 21st century\">,\n",
       " <DATE-span (1147,1148): \"September 11\">,\n",
       " <ORG-span (1153): \"Al-Qaeda\">,\n",
       " <DATE-span (1155): \"2001\">,\n",
       " <GPE-span (1164): \"Afghanistan\">,\n",
       " <GPE-span (1166): \"Iraq\">,\n",
       " <DATE-span (1169): \"2007\">,\n",
       " <GPE-span (1171,1172,1173): \"the United States\">,\n",
       " <EVENT-span (1180,1181,1182): \"the Great Depression\">,\n",
       " <DATE-span (1194,1195,1196): \"the early 2010s\">,\n",
       " <DATE-span (1205,1206,1207): \"the late 2010s\">,\n",
       " <DATE-span (1215): \"2020\">,\n",
       " <DATE-span (1219): \"2019-20\">]"
      ]
     },
     "execution_count": 19,
     "metadata": {},
     "output_type": "execute_result"
    }
   ],
   "source": [
    "spans = sentences[0].get_spans(\"ner\")\n",
    "spans"
   ]
  },
  {
   "cell_type": "code",
   "execution_count": 20,
   "metadata": {
    "colab": {
     "base_uri": "https://localhost:8080/",
     "height": 851
    },
    "colab_type": "code",
    "id": "NCJgK9RCbjds",
    "outputId": "5d2ac80b-3506-450c-a0e2-b1df7c45c5ef"
   },
   "outputs": [
    {
     "data": {
      "text/plain": [
       "['1765',\n",
       " '1773',\n",
       " '1775',\n",
       " '1776',\n",
       " '1783',\n",
       " '1787',\n",
       " '1789',\n",
       " '1790',\n",
       " '1791',\n",
       " '1803',\n",
       " '1804',\n",
       " '1810',\n",
       " '1812',\n",
       " '1860',\n",
       " '1860',\n",
       " '1861',\n",
       " '1865',\n",
       " '1868',\n",
       " '1877',\n",
       " '1900',\n",
       " '1917',\n",
       " '1920',\n",
       " '1924',\n",
       " '1929',\n",
       " '1940',\n",
       " '1940',\n",
       " '1941',\n",
       " '1991',\n",
       " '2001',\n",
       " '2007',\n",
       " '2015',\n",
       " '2019-20',\n",
       " '2020',\n",
       " 'September 11',\n",
       " 'This era',\n",
       " 'a prosperous decade',\n",
       " 'the 1760s',\n",
       " 'the 1890s to 1920s',\n",
       " 'the 1920s',\n",
       " 'the 1960s',\n",
       " 'the 1960s',\n",
       " 'the 21st century',\n",
       " 'the Reconstruction era',\n",
       " 'the early 2010s',\n",
       " 'the following year',\n",
       " 'the late 2010s',\n",
       " 'the turn of the 20th century',\n",
       " 'the year 1492']"
      ]
     },
     "execution_count": 20,
     "metadata": {},
     "output_type": "execute_result"
    }
   ],
   "source": [
    "dates = []\n",
    "for s in spans:\n",
    "  if s.tag == \"DATE\":\n",
    "    dates.append(s.text)\n",
    "dates = sorted(dates)\n",
    "dates"
   ]
  },
  {
   "cell_type": "code",
   "execution_count": 21,
   "metadata": {
    "colab": {
     "base_uri": "https://localhost:8080/",
     "height": 607
    },
    "colab_type": "code",
    "id": "WmL6mroTbjdu",
    "outputId": "d80b783f-3711-4eda-f043-92605e1ed6c8"
   },
   "outputs": [
    {
     "data": {
      "text/plain": [
       "{'1765': datetime.datetime(1765, 4, 17, 0, 0),\n",
       " '1773': datetime.datetime(1773, 4, 17, 0, 0),\n",
       " '1775': datetime.datetime(1775, 4, 17, 0, 0),\n",
       " '1776': datetime.datetime(1776, 4, 17, 0, 0),\n",
       " '1783': datetime.datetime(1783, 4, 17, 0, 0),\n",
       " '1787': datetime.datetime(1787, 4, 17, 0, 0),\n",
       " '1789': datetime.datetime(1789, 4, 17, 0, 0),\n",
       " '1790': datetime.datetime(1790, 4, 17, 0, 0),\n",
       " '1791': datetime.datetime(1791, 4, 17, 0, 0),\n",
       " '1803': datetime.datetime(1803, 4, 17, 0, 0),\n",
       " '1804': datetime.datetime(1804, 4, 17, 0, 0),\n",
       " '1810': datetime.datetime(1810, 4, 17, 0, 0),\n",
       " '1812': datetime.datetime(1812, 4, 17, 0, 0),\n",
       " '1860': datetime.datetime(1860, 4, 17, 0, 0),\n",
       " '1861': datetime.datetime(1861, 4, 17, 0, 0),\n",
       " '1865': datetime.datetime(1865, 4, 17, 0, 0),\n",
       " '1868': datetime.datetime(1868, 4, 17, 0, 0),\n",
       " '1877': datetime.datetime(1877, 4, 17, 0, 0),\n",
       " '1900': datetime.datetime(1900, 4, 17, 0, 0),\n",
       " '1917': datetime.datetime(1917, 4, 17, 0, 0),\n",
       " '1920': datetime.datetime(1920, 4, 17, 0, 0),\n",
       " '1924': datetime.datetime(1924, 4, 17, 0, 0),\n",
       " '1929': datetime.datetime(1929, 4, 17, 0, 0),\n",
       " '1940': datetime.datetime(1940, 4, 17, 0, 0),\n",
       " '1941': datetime.datetime(1941, 4, 17, 0, 0),\n",
       " '1991': datetime.datetime(1991, 4, 17, 0, 0),\n",
       " '2001': datetime.datetime(2001, 4, 17, 0, 0),\n",
       " '2007': datetime.datetime(2007, 4, 17, 0, 0),\n",
       " '2015': datetime.datetime(2015, 4, 17, 0, 0),\n",
       " '2020': datetime.datetime(2020, 4, 17, 0, 0),\n",
       " 'September 11': datetime.datetime(2020, 9, 11, 0, 0),\n",
       " 'the 21st century': datetime.datetime(2020, 4, 21, 0, 0),\n",
       " 'the turn of the 20th century': datetime.datetime(2020, 4, 20, 0, 0),\n",
       " 'the year 1492': datetime.datetime(1492, 4, 17, 0, 0)}"
      ]
     },
     "execution_count": 21,
     "metadata": {},
     "output_type": "execute_result"
    }
   ],
   "source": [
    "from dateutil.parser import parse\n",
    "\n",
    "dates_map = {}\n",
    "for d in dates:\n",
    "  try:\n",
    "    dates_map[d] = parse(d, fuzzy=True)\n",
    "  except:\n",
    "    pass\n",
    "\n",
    "dates_map"
   ]
  },
  {
   "cell_type": "code",
   "execution_count": null,
   "metadata": {
    "colab": {},
    "colab_type": "code",
    "id": "eVfEzKm5bjdx"
   },
   "outputs": [],
   "source": []
  },
  {
   "cell_type": "markdown",
   "metadata": {
    "colab_type": "text",
    "id": "FPpCee-kbjdy"
   },
   "source": [
    "\n",
    "### *Run QA Task to Extract Information on \"What happened in...\" Extracted Dates*"
   ]
  },
  {
   "cell_type": "code",
   "execution_count": 22,
   "metadata": {
    "colab": {
     "base_uri": "https://localhost:8080/",
     "height": 607
    },
    "colab_type": "code",
    "id": "ett854eYbjdz",
    "outputId": "599cbc48-0205-4077-af65-fbac6293d8ea"
   },
   "outputs": [
    {
     "data": {
      "text/plain": [
       "['What happened in 1765?',\n",
       " 'What happened in 1773?',\n",
       " 'What happened in 1775?',\n",
       " 'What happened in 1776?',\n",
       " 'What happened in 1783?',\n",
       " 'What happened in 1787?',\n",
       " 'What happened in 1789?',\n",
       " 'What happened in 1790?',\n",
       " 'What happened in 1791?',\n",
       " 'What happened in 1803?',\n",
       " 'What happened in 1804?',\n",
       " 'What happened in 1810?',\n",
       " 'What happened in 1812?',\n",
       " 'What happened in 1860?',\n",
       " 'What happened in 1861?',\n",
       " 'What happened in 1865?',\n",
       " 'What happened in 1868?',\n",
       " 'What happened in 1877?',\n",
       " 'What happened in 1900?',\n",
       " 'What happened in 1917?',\n",
       " 'What happened in 1920?',\n",
       " 'What happened in 1924?',\n",
       " 'What happened in 1929?',\n",
       " 'What happened in 1940?',\n",
       " 'What happened in 1941?',\n",
       " 'What happened in 1991?',\n",
       " 'What happened in 2001?',\n",
       " 'What happened in 2007?',\n",
       " 'What happened in 2015?',\n",
       " 'What happened in 2020?',\n",
       " 'What happened in September 11?',\n",
       " 'What happened in the 21st century?',\n",
       " 'What happened in the turn of the 20th century?',\n",
       " 'What happened in the year 1492?']"
      ]
     },
     "execution_count": 22,
     "metadata": {},
     "output_type": "execute_result"
    }
   ],
   "source": [
    "query_texts = [f\"What happened in {d}?\" for d in dates_map.keys()]\n",
    "context_texts = [text]*len(query_texts)\n",
    "\n",
    "query_texts"
   ]
  },
  {
   "cell_type": "code",
   "execution_count": 23,
   "metadata": {
    "colab": {
     "base_uri": "https://localhost:8080/",
     "height": 712
    },
    "colab_type": "code",
    "id": "Atu6XkFgbjd1",
    "outputId": "61655128-ae9f-4a8e-f8b6-9866e55dec04"
   },
   "outputs": [
    {
     "name": "stderr",
     "output_type": "stream",
     "text": [
      "convert squad examples to features: 100%|██████████| 34/34 [00:01<00:00, 25.65it/s]\n",
      "add example index and unique id: 100%|██████████| 34/34 [00:00<00:00, 59050.24it/s]\n",
      "Predicting answer: 100%|██████████| 28/28 [00:13<00:00,  2.13it/s]\n"
     ]
    },
    {
     "data": {
      "text/plain": [
       "OrderedDict([('0', 'the Stamp Act of 1765'),\n",
       "             ('1', 'Boston Tea Party'),\n",
       "             ('2', 'Armed conflict'),\n",
       "             ('3',\n",
       "              'the Second Continental Congress declared the independence of the colonies'),\n",
       "             ('4', 'The peace treaty of 1783'),\n",
       "             ('5', 'A convention in 1787 wrote a new Constitution'),\n",
       "             ('6', 'A convention in 1787 wrote a new Constitution'),\n",
       "             ('7', 'by 1790 its population was only 4 million.'),\n",
       "             ('8', 'a Bill of Rights was added'),\n",
       "             ('9', 'Purchase of the Louisiana Territory from France'),\n",
       "             ('10', 'Slavery was abolished'),\n",
       "             ('11', 'It grew rapidly'),\n",
       "             ('12', 'A second and final war with Britain'),\n",
       "             ('13', '32 million in 1860'),\n",
       "             ('14', 'the Civil War'),\n",
       "             ('15', 'Defeat of the Confederates'),\n",
       "             ('16', 'the Fourteenth Amendment'),\n",
       "             ('17', 'white Democrats regained their power in the South'),\n",
       "             ('18', '76 million in 1900'),\n",
       "             ('19', 'the United States declared war on Germany'),\n",
       "             ('20', 'Women obtained the right to vote'),\n",
       "             ('21',\n",
       "              'Native Americans obtaining citizenship and the right to vote'),\n",
       "             ('22', 'Wall Street Crash'),\n",
       "             ('23', '132 million'),\n",
       "             ('24', 'Japanese attack on Pearl Harbor'),\n",
       "             ('25', 'the Soviet Union was officially dissolved'),\n",
       "             ('26', 'September 11 attacks'),\n",
       "             ('27', 'the United States entered its worst economic crisis'),\n",
       "             ('28', '321 million'),\n",
       "             ('29', 'new economic disruption'),\n",
       "             ('30', 'the September 11 attacks carried out by Al-Qaeda'),\n",
       "             ('31', 'wars in Afghanistan and Iraq'),\n",
       "             ('32',\n",
       "              \"United States became the world's leading industrial power\"),\n",
       "             ('33', 'The arrival of Christopher Columbus')])"
      ]
     },
     "execution_count": 23,
     "metadata": {},
     "output_type": "execute_result"
    }
   ],
   "source": [
    "answers, _ = qa.predict_qa(\n",
    "    context = context_texts,\n",
    "    query = query_texts,\n",
    "    model_name_or_path = \"bert-large-cased-whole-word-masking-finetuned-squad\",\n",
    "    n_best_size = 7,\n",
    "    mini_batch_size = 10\n",
    ")\n",
    "\n",
    "answers"
   ]
  },
  {
   "cell_type": "markdown",
   "metadata": {
    "colab_type": "text",
    "id": "S89ZOXBHABjK"
   },
   "source": [
    "### *Generate Text Timeline*"
   ]
  },
  {
   "cell_type": "code",
   "execution_count": 24,
   "metadata": {
    "colab": {
     "base_uri": "https://localhost:8080/",
     "height": 607
    },
    "colab_type": "code",
    "id": "OOO1JrdUbW8j",
    "outputId": "f7750f38-e877-43fe-96fb-aed448b5de98"
   },
   "outputs": [
    {
     "name": "stdout",
     "output_type": "stream",
     "text": [
      "1765 the Stamp Act of 1765\n",
      "1773 Boston Tea Party\n",
      "1775 Armed conflict\n",
      "1776 the Second Continental Congress declared the independence of the colonies\n",
      "1783 The peace treaty of 1783\n",
      "1787 A convention in 1787 wrote a new Constitution\n",
      "1789 A convention in 1787 wrote a new Constitution\n",
      "1790 by 1790 its population was only 4 million.\n",
      "1791 a Bill of Rights was added\n",
      "1803 Purchase of the Louisiana Territory from France\n",
      "1804 Slavery was abolished\n",
      "1810 It grew rapidly\n",
      "1812 A second and final war with Britain\n",
      "1860 32 million in 1860\n",
      "1861 the Civil War\n",
      "1865 Defeat of the Confederates\n",
      "1868 the Fourteenth Amendment\n",
      "1877 white Democrats regained their power in the South\n",
      "1900 76 million in 1900\n",
      "1917 the United States declared war on Germany\n",
      "1920 Women obtained the right to vote\n",
      "1924 Native Americans obtaining citizenship and the right to vote\n",
      "1929 Wall Street Crash\n",
      "1940 132 million\n",
      "1941 Japanese attack on Pearl Harbor\n",
      "1991 the Soviet Union was officially dissolved\n",
      "2001 September 11 attacks\n",
      "2007 the United States entered its worst economic crisis\n",
      "2015 321 million\n",
      "2020 new economic disruption\n",
      "September 11 the September 11 attacks carried out by Al-Qaeda\n",
      "the 21st century wars in Afghanistan and Iraq\n",
      "the turn of the 20th century United States became the world's leading industrial power\n",
      "the year 1492 The arrival of Christopher Columbus\n"
     ]
    }
   ],
   "source": [
    "for d, a in zip(dates_map.keys(), answers.values()):\n",
    "  print(d, a)"
   ]
  },
  {
   "cell_type": "markdown",
   "metadata": {
    "colab_type": "text",
    "id": "C-NpHdq5bjd3"
   },
   "source": [
    "### *Generate Stem Timeline with Matplotlib*"
   ]
  },
  {
   "cell_type": "code",
   "execution_count": 25,
   "metadata": {
    "colab": {},
    "colab_type": "code",
    "id": "FiFdwFmUbjd3"
   },
   "outputs": [],
   "source": [
    "import matplotlib.pyplot as plt\n",
    "import numpy as np\n",
    "import matplotlib.dates as mdates\n",
    "from datetime import datetime\n",
    "\n",
    "def generate_timeline(names_mat: list, dates_mat: list):\n",
    "  # Choose levels\n",
    "  levels = np.tile([-30, 30, -20, 20, -12, 12, -7, 7, -1, 1], int(np.ceil(len(dates_mat)/10)))[:len(dates_mat)]\n",
    "\n",
    "  # Create figure and plot a stem plot with the date\n",
    "  fig, ax = plt.subplots(figsize=(20, 6), constrained_layout=True)\n",
    "  ax.set_title(\"Timeline of Significant Events in U.S. History\", fontsize=30, fontweight='bold')\n",
    "  markerline, stemline, baseline = ax.stem(dates_mat, levels, linefmt=\"C3-\", basefmt=\"k-\", use_line_collection=True)\n",
    "  plt.setp(markerline, mec=\"k\", mfc=\"w\", zorder=3)\n",
    "\n",
    "  # Shift the markers to the baseline by replacing the y-data by zeros.\n",
    "  markerline.set_ydata(np.zeros(len(dates_mat)))\n",
    "\n",
    "  # Annotate lines\n",
    "  vert = np.array(['top', 'bottom'])[(levels > 0).astype(int)]\n",
    "  for d, l, r, va in zip(dates_mat, levels, names_mat, vert):\n",
    "    ax.annotate(r, xy=(d, l), xytext=(-3, np.sign(l)*3), textcoords=\"offset points\", va=va, ha=\"right\")\n",
    "\n",
    "  # Format xaxis with AutoDateLocator\n",
    "  ax.get_xaxis().set_major_locator(mdates.AutoDateLocator())\n",
    "  ax.get_xaxis().set_major_formatter(mdates.DateFormatter(\"%b %Y\"))\n",
    "  plt.setp(ax.get_xticklabels(), rotation=30, ha=\"right\")\n",
    "\n",
    "  # Remove y axis and spines\n",
    "  ax.get_yaxis().set_visible(False)\n",
    "  for spine in [\"left\", \"top\", \"right\"]:\n",
    "    ax.spines[spine].set_visible(False)\n",
    "\n",
    "  ax.margins(y=0.1)\n",
    "  plt.show()"
   ]
  },
  {
   "cell_type": "code",
   "execution_count": 26,
   "metadata": {
    "colab": {
     "base_uri": "https://localhost:8080/",
     "height": 457
    },
    "colab_type": "code",
    "id": "FtL0s2GXbjeC",
    "outputId": "d20df009-e2cd-453d-dfbd-f1bd7c420566"
   },
   "outputs": [
    {
     "data": {
      "image/png": "[encoded data removed]",
      "text/plain": [
       "<Figure size 1440x432 with 1 Axes>"
      ]
     },
     "metadata": {
      "needs_background": "light"
     },
     "output_type": "display_data"
    }
   ],
   "source": [
    "names_mat = list(answers.values())[:30]\n",
    "dates_mat = list(dates_map.values())[:30]\n",
    "\n",
    "generate_timeline(names_mat=names_mat, dates_mat=dates_mat)"
   ]
  },
  {
   "cell_type": "markdown",
   "metadata": {
    "colab_type": "text",
    "id": "tCIKLMuvO9L_"
   },
   "source": [
    "# Additional AdaptNLP Resources (All Open and Publically Available)"
   ]
  },
  {
   "cell_type": "markdown",
   "metadata": {
    "colab_type": "text",
    "id": "mzrIAR4yUMYW"
   },
   "source": [
    "### *Tutorials for NLP Tasks with AdaptNLP*\n",
    "\n",
    "  1. Token Classification: NER, POS, Chunk, and Frame Tagging\n",
    "      - [![Open In Colab](https://colab.research.google.com/assets/colab-badge.svg)](https://colab.research.google.com/github/Novetta/adaptnlp/blob/master/tutorials/1.%20Token%20Classification/token_tagging.ipynb)\n",
    "  2. Sequence Classification: Sentiment\n",
    "      - [![Open In Colab](https://colab.research.google.com/assets/colab-badge.svg)](https://colab.research.google.com/github/Novetta/adaptnlp/blob/master/tutorials/2.%20Sequence%20Classification/sequence_classification.ipynb)\n",
    "  3. Embeddings: Transformer Embeddings e.g. BERT, XLM, GPT2, XLNet, roBERTa, ALBERT\n",
    "      - [![Open In Colab](https://colab.research.google.com/assets/colab-badge.svg)](https://colab.research.google.com/github/Novetta/adaptnlp/blob/master/tutorials/3.%20Embeddings/embeddings.ipynb)\n",
    "  4. Question Answering: Span-based Question Answering Model\n",
    "      - [![Open In Colab](https://colab.research.google.com/assets/colab-badge.svg)](https://colab.research.google.com/github/Novetta/adaptnlp/blob/master/tutorials/4.%20Question%20Answering/question_answering.ipynb)\n",
    "  5. Summarization: Abstractive and Extractive\n",
    "      - [![Open In Colab](https://colab.research.google.com/assets/colab-badge.svg)](https://colab.research.google.com/github/Novetta/adaptnlp/blob/master/tutorials/5.%20Summarization/summarization.ipynb)\n",
    "  6. Translation: Seq2Seq\n",
    "      - [![Open In Colab](https://colab.research.google.com/assets/colab-badge.svg)](https://colab.research.google.com/github/Novetta/adaptnlp/blob/master/tutorials/6.%20Translation/translation.ipynb)"
   ]
  },
  {
   "cell_type": "markdown",
   "metadata": {
    "colab_type": "text",
    "id": "wqtzIcarVxFB"
   },
   "source": [
    "### *Tutorial for Fine-tuning and Training Custom Models with AdaptNLP*\n",
    "\n",
    " 1. Training a Sequence Classifier\n",
    "   - [![Open In Colab](https://colab.research.google.com/assets/colab-badge.svg)](https://colab.research.google.com/github/Novetta/adaptnlp/blob/master/tutorials/Finetuning%20and%20Training%20(Advanced)/sequence_classification_training.ipynb)\n",
    " 2. Fine-tuning a Transformers Language Model\n",
    "   - [![Open In Colab](https://colab.research.google.com/assets/colab-badge.svg)](https://colab.research.google.com/github/Novetta/adaptnlp/blob/master/tutorials/Finetuning%20and%20Training%20(Advanced)/fine_tuning.ipynb)\n",
    "  \n",
    "Checkout the [documentation](https://novetta.github.io/adaptnlp) for more information.\n",
    "  "
   ]
  },
  {
   "cell_type": "markdown",
   "metadata": {
    "colab_type": "text",
    "id": "M9CEAsioV61c"
   },
   "source": [
    "## *NVIDIA Docker and Configurable AdaptNLP REST Microservices*\n",
    "\n",
    "  1. AdaptNLP official docker images are up on [Docker Hub](https://hub.docker.com/r/achangnovetta/adaptnlp).\n",
    "  2. REST Microservices with AdaptNLP and FastAPI are also up on [Docker Hub](https://hub.docker.com/r/achangnovetta/adaptnlp-rest)\n",
    " \n",
    "All images can build with GPU support if NVIDIA-Docker is correctly installed."
   ]
  },
  {
   "cell_type": "code",
   "execution_count": null,
   "metadata": {
    "colab": {},
    "colab_type": "code",
    "id": "MSDLN4DoV0L4"
   },
   "outputs": [],
   "source": []
  }
 ],
 "metadata": {
  "accelerator": "GPU",
  "colab": {
   "collapsed_sections": [
    "nThoqg72bjdC",
    "y3HpUHWtT9Qf",
    "09Pss3ZmUA4q",
    "FPpCee-kbjdy",
    "S89ZOXBHABjK",
    "tCIKLMuvO9L_"
   ],
   "name": "workshop.ipynb",
   "provenance": []
  },
  "kernelspec": {
   "display_name": "Python 3",
   "language": "python",
   "name": "python3"
  },
  "language_info": {
   "codemirror_mode": {
    "name": "ipython",
    "version": 3
   },
   "file_extension": ".py",
   "mimetype": "text/x-python",
   "name": "python",
   "nbconvert_exporter": "python",
   "pygments_lexer": "ipython3",
   "version": "3.6.9"
  }
 },
 "nbformat": 4,
 "nbformat_minor": 4
}
