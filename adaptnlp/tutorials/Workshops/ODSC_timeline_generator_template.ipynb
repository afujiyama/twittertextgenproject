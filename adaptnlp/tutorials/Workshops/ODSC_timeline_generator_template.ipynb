{
 "cells": [
  {
   "cell_type": "markdown",
   "metadata": {
    "colab_type": "text",
    "id": "nThoqg72bjdC"
   },
   "source": [
    "# **State-of-the-art NLP Made Easy with [AdaptNLP](https://www.github.com/novetta/adaptnlp)**"
   ]
  },
  {
   "cell_type": "markdown",
   "metadata": {
    "colab_type": "text",
    "id": "ID0J_MsTbjdD"
   },
   "source": [
    "# 1. Today's Objective: Generate Enriched Data from Unstructured Text"
   ]
  },
  {
   "cell_type": "markdown",
   "metadata": {
    "colab_type": "text",
    "id": "uMVIO0yiQPF9"
   },
   "source": [
    "### *Prerequisite: Install AdaptNLP*"
   ]
  },
  {
   "cell_type": "code",
   "execution_count": null,
   "metadata": {
    "colab": {
     "base_uri": "https://localhost:8080/",
     "height": 1000
    },
    "colab_type": "code",
    "id": "rWsQAI7QQMYd",
    "outputId": "846ce58e-13aa-4c18-e195-cbdcf05a2ccb"
   },
   "outputs": [],
   "source": [
    "!pip install adaptnlp"
   ]
  },
  {
   "cell_type": "markdown",
   "metadata": {
    "colab_type": "text",
    "id": "lTU-_49uQeiS"
   },
   "source": [
    "### *Prerequisite: Show Unstructured Text Example*"
   ]
  },
  {
   "cell_type": "code",
   "execution_count": null,
   "metadata": {
    "colab": {
     "base_uri": "https://localhost:8080/",
     "height": 70
    },
    "colab_type": "code",
    "id": "nhTD_DggbjdD",
    "jupyter": {
     "source_hidden": true
    },
    "outputId": "331207f4-d864-4fda-f3e1-93033568f249"
   },
   "outputs": [],
   "source": [
    "from IPython.core.display import HTML, display\n",
    "\n",
    "example_text = \"\"\"\n",
    "The history (and prehistory) of the United States, started with the arrival of Native Americans before 15,000 B.C. Numerous indigenous cultures formed, and many disappeared before 1500. The arrival of Christopher Columbus in the year 1492 started the European colonization of the Americas. Most colonies were formed after 1600, and the early records and writings of John Winthrop make the United States the first nation whose most distant origins are fully recorded.[1] By the 1760s, the thirteen British colonies contained 2.5 million people along the Atlantic Coast east of the Appalachian Mountains. After defeating France, the British government imposed a series of taxes, including the Stamp Act of 1765, rejecting the colonists' constitutional argument that new taxes needed their approval. Resistance to these taxes, especially the Boston Tea Party in 1773, led to Parliament issuing punitive laws designed to end self-government in Massachusetts.\n",
    "\n",
    "Armed conflict began in 1775. In 1776, in Philadelphia, the Second Continental Congress declared the independence of the colonies as the United States. Led by General George Washington, it won the Revolutionary War with large support from France. The peace treaty of 1783 gave the land east of the Mississippi River (except Canada and Florida) to the new nation. The Articles of Confederation established a central government, but it was ineffectual at providing stability as it could not collect taxes and had no executive officer. A convention in 1787 wrote a new Constitution that was adopted in 1789. In 1791, a Bill of Rights was added to guarantee inalienable rights. With Washington as the first president and Alexander Hamilton his chief adviser, a strong central government was created. Purchase of the Louisiana Territory from France in 1803 doubled the size of the United States. A second and final war with Britain was fought in 1812, which solidified national pride.\n",
    "\n",
    "Encouraged by the notion of manifest destiny, U.S. territory expanded all the way to the Pacific Coast. While the United States was large in terms of area, by 1790 its population was only 4 million. It grew rapidly, however, reaching 7.2 million in 1810, 32 million in 1860, 76 million in 1900, 132 million in 1940, and 321 million in 2015. Economic growth in terms of overall GDP was even greater. Compared to European powers, though, the nation's military strength was relatively limited in peacetime before 1940. Westward expansion was driven by a quest for inexpensive land for yeoman farmers and slave owners. The expansion of slavery was increasingly controversial and fueled political and constitutional battles, which were resolved by compromises. Slavery was abolished in all states north of the Mason–Dixon line by 1804, but the South continued to profit from the institution, mostly from the production of cotton. Republican Abraham Lincoln was elected president in 1860 on a platform of halting the expansion of slavery.\n",
    "\n",
    "Seven Southern slave states rebelled and created the foundation of the Confederacy. Its attack of Fort Sumter against the Union forces there in 1861 started the Civil War. Defeat of the Confederates in 1865 led to the impoverishment of the South and the abolition of slavery. In the Reconstruction era following the war, legal and voting rights were extended to freed slaves. The national government emerged much stronger, and because of the Fourteenth Amendment in 1868, it gained explicit duty to protect individual rights. However, when white Democrats regained their power in the South in 1877, often by paramilitary suppression of voting, they passed Jim Crow laws to maintain white supremacy, as well as new disenfranchising state constitutions that prevented most African Americans and many poor whites from voting. This continued until the gains of the civil rights movement in the 1960s and the passage of federal legislation to enforce uniform constitutional rights for all citizens.\n",
    "\n",
    "The United States became the world's leading industrial power at the turn of the 20th century, due to an outburst of entrepreneurship and industrialization in the Northeast and Midwest and the arrival of millions of immigrant workers and farmers from Europe. A national railroad network was completed and large-scale mines and factories were established. Mass dissatisfaction with corruption, inefficiency, and traditional politics stimulated the Progressive movement, from the 1890s to 1920s. This era led to many reforms, including the Sixteenth to Nineteenth constitutional amendments, which brought the federal income tax, direct election of Senators, prohibition, and women's suffrage. Initially neutral during World War I, the United States declared war on Germany in 1917 and funded the Allied victory the following year. Women obtained the right to vote in 1920, with Native Americans obtaining citizenship and the right to vote in 1924.\n",
    "\n",
    "After a prosperous decade in the 1920s, the Wall Street Crash of 1929 marked the onset of the decade-long worldwide Great Depression. Democratic President Franklin D. Roosevelt ended the Republican dominance of the White House and implemented his New Deal programs, which included relief for the unemployed, support for farmers, Social Security and a minimum wage. The New Deal defined modern American liberalism. After the Japanese attack on Pearl Harbor in 1941, the United States entered World War II and financed the Allied war effort and helped defeat Nazi Germany in the European theater. Its involvement culminated in using newly-invented nuclear weapons on two Japanese cities to defeat Imperial Japan in the Pacific theater.\n",
    "\n",
    "The United States and the Soviet Union emerged as rival superpowers in the aftermath of World War II. During the Cold War, the two countries confronted each other indirectly in the arms race, the Space Race, proxy wars, and propaganda campaigns. The goal of the United States in this was to stop the spread of communism. In the 1960s, in large part due to the strength of the civil rights movement, another wave of social reforms was enacted which enforced the constitutional rights of voting and freedom of movement to African Americans and other racial minorities. The Cold War ended when the Soviet Union was officially dissolved in 1991, leaving the United States as the world's only superpower.\n",
    "\n",
    "After the Cold War, the United States's foreign policy has focused on modern conflicts in the Middle East. The beginning of the 21st century saw the September 11 attacks carried out by Al-Qaeda in 2001, which was later followed by wars in Afghanistan and Iraq. In 2007, the United States entered its worst economic crisis since the Great Depression, which was followed by slower-than-usual rates of economic growth during the early 2010s. Economic growth and unemployment rates recovered by the late 2010s, however new economic disruption began in 2020 due to the 2019-20 coronavirus pandemic.\n",
    "\"\"\"\n",
    "example_text_html = f\"\"\"\n",
    "<!DOCTYPE html>\n",
    "<html>\n",
    "<head>\n",
    "<meta name=\"viewport\" content=\"width=device-width, initial-scale=1\">\n",
    "<style>\n",
    ".collapsible {{\n",
    "  background-color: #777;\n",
    "  color: white;\n",
    "  cursor: pointer;\n",
    "  padding: 18px;\n",
    "  width: 100%;\n",
    "  border: none;\n",
    "  text-align: left;\n",
    "  outline: none;\n",
    "  font-size: 15px;\n",
    "}}\n",
    "\n",
    ".active, .collapsible:hover {{\n",
    "  background-color: #555;\n",
    "}}\n",
    "\n",
    ".content {{\n",
    "  padding: 0 18px;\n",
    "  display: none;\n",
    "  overflow: hidden;\n",
    "  background-color: #f1f1f1;\n",
    "}}\n",
    "</style>\n",
    "</head>\n",
    "<body>\n",
    "\n",
    "<button type=\"button\" class=\"collapsible\">Example Unstructured Text</button>\n",
    "<div class=\"content\">\n",
    "  <p>{example_text}</p>\n",
    "</div>\n",
    "\n",
    "<script>\n",
    "var coll = document.getElementsByClassName(\"collapsible\");\n",
    "var i;\n",
    "\n",
    "for (i = 0; i < coll.length; i++) {{\n",
    "  coll[i].addEventListener(\"click\", function() {{\n",
    "    this.classList.toggle(\"active\");\n",
    "    var content = this.nextElementSibling;\n",
    "    if (content.style.display === \"block\") {{\n",
    "      content.style.display = \"none\";\n",
    "    }} else {{\n",
    "      content.style.display = \"block\";\n",
    "    }}\n",
    "  }});\n",
    "}}\n",
    "</script>\n",
    "\n",
    "</body>\n",
    "</html>\n",
    "\"\"\"\n",
    "\n",
    "display(HTML(example_text_html))\n"
   ]
  },
  {
   "cell_type": "markdown",
   "metadata": {
    "colab_type": "text",
    "id": "sDsFKgqvQubU"
   },
   "source": [
    "### *Prerequisite: Download Models and Generate Final Timeline*"
   ]
  },
  {
   "cell_type": "code",
   "execution_count": null,
   "metadata": {
    "colab": {
     "base_uri": "https://localhost:8080/",
     "height": 1000
    },
    "colab_type": "code",
    "id": "n5KDs8JPbjdH",
    "jupyter": {
     "source_hidden": true
    },
    "outputId": "6c2dd366-b686-455e-cd1a-eca1b70d2bb1"
   },
   "outputs": [],
   "source": [
    "from adaptnlp import (\n",
    "    EasyTokenTagger,\n",
    "    EasySequenceClassifier,\n",
    "    EasyQuestionAnswering,\n",
    "    EasySummarizer,\n",
    "    EasyTranslator,\n",
    "    EasyDocumentEmbeddings,\n",
    ")\n",
    "from dateutil.parser import parse\n",
    "import matplotlib.pyplot as plt\n",
    "import numpy as np\n",
    "import matplotlib.dates as mdates\n",
    "import pprint\n",
    "\n",
    "# Summary\n",
    "summarizer = EasySummarizer()\n",
    "summary = summarizer.summarize(text=example_text, model_name_or_path=\"t5-base\", mini_batch_size=1, num_beams=4, min_length=100, max_length=200)\n",
    "summary = summary[0]\n",
    "\n",
    "# Translation of Summary\n",
    "translator = EasyTranslator()\n",
    "translated_summary = translator.translate(text=summary.split(\" . \"), model_name_or_path=\"t5-base\", t5_prefix=\"translate English to French\", mini_batch_size=3, min_length=0, max_length=200)\n",
    "translated_summary = \" . \".join(translated_summary)\n",
    "\n",
    "# NER\n",
    "nl = \"\\n\" # For f-string formatting\n",
    "tagger = EasyTokenTagger()\n",
    "sentences = tagger.tag_text(text=example_text, model_name_or_path=\"ner-ontonotes-fast\", mini_batch_size=32)\n",
    "ner_dict = sentences[0].to_dict(\"ner\")\n",
    "ner_dict = [f\"<b>{i+1}.</b> {pprint.pformat(ent).replace(nl,'<br>')}\" for i, ent in enumerate(ner_dict[\"entities\"][:6])]\n",
    "ner_html = \"<br>\" + \"<br>\".join(ner_dict)\n",
    "\n",
    "# QA\n",
    "qa = EasyQuestionAnswering()\n",
    "_, top_n = qa.predict_qa(query=\"What happened in 1776?\", context=example_text, model_name_or_path=\"bert-large-cased-whole-word-masking-finetuned-squad\", n_best_size=5, mini_batch_size=1)\n",
    "top_n = [f\"<b>{i+1}.</b> {pprint.pformat(dict(ans)).replace(nl,'<br>')}\" for i, ans in enumerate(top_n)]\n",
    "top_n_html = \"<br>\" + \"<br>\".join(top_n)    \n",
    "    \n",
    "# Timeline\n",
    "dates = []\n",
    "for span in sentences[0].get_spans(\"ner\"):\n",
    "  if span.tag == \"DATE\":\n",
    "    dates.append(span.text)\n",
    "dates = sorted(dates)\n",
    "\n",
    "dates_map = {}\n",
    "for d in dates:\n",
    "  try:\n",
    "    dates_map[d] = parse(d, fuzzy=True)\n",
    "  except:\n",
    "    pass\n",
    "\n",
    "answers_map = {}\n",
    "answer, _ = qa.predict_qa(query=[f\"What happened in {t}\" for t in dates_map.keys()], context = [example_text]*len(dates_map.keys()), model_name_or_path=\"bert-large-cased-whole-word-masking-finetuned-squad\", n_best_size=7, mini_batch_size=10)\n",
    "\n",
    "def generate_timeline(names_mat: list, dates_mat: list):\n",
    "  # Choose levels\n",
    "  levels = np.tile([-30, 30, -20, 20, -12, 12, -7, 7, -1, 1], int(np.ceil(len(dates_mat)/10)))[:len(dates_mat)]\n",
    "\n",
    "  # Create figure and plot a stem plot with the date\n",
    "  fig, ax = plt.subplots(figsize=(20, 6), constrained_layout=True)\n",
    "  ax.set_title(\"Timeline of Significant Events in U.S. History\", fontsize=30, fontweight='bold')\n",
    "  markerline, stemline, baseline = ax.stem(dates_mat, levels, linefmt=\"C3-\", basefmt=\"k-\", use_line_collection=True)\n",
    "  plt.setp(markerline, mec=\"k\", mfc=\"w\", zorder=3)\n",
    "\n",
    "  # Shift the markers to the baseline by replacing the y-data by zeros.\n",
    "  markerline.set_ydata(np.zeros(len(dates_mat)))\n",
    "\n",
    "  # Annotate lines\n",
    "  vert = np.array(['top', 'bottom'])[(levels > 0).astype(int)]\n",
    "  for d, l, r, va in zip(dates_mat, levels, names_mat, vert):\n",
    "    ax.annotate(r, xy=(d, l), xytext=(-3, np.sign(l)*3), textcoords=\"offset points\", va=va, ha=\"right\")\n",
    "\n",
    "  # Format xaxis with AutoDateLocator\n",
    "  ax.get_xaxis().set_major_locator(mdates.AutoDateLocator())\n",
    "  ax.get_xaxis().set_major_formatter(mdates.DateFormatter(\"%b %Y\"))\n",
    "  plt.setp(ax.get_xticklabels(), rotation=30, ha=\"right\")\n",
    "\n",
    "  # Remove y axis and spines\n",
    "  ax.get_yaxis().set_visible(False)\n",
    "  for spine in [\"left\", \"top\", \"right\"]:\n",
    "    ax.spines[spine].set_visible(False)\n",
    "\n",
    "  ax.margins(y=0.1)\n",
    "  plt.show()\n",
    "\n",
    "names_mat = list(answer.values()) [:30]\n",
    "dates_mat = list(dates_map.values()) [:30]   \n",
    "\n",
    "generate_timeline(names_mat=names_mat, dates_mat=dates_mat)\n",
    "    \n",
    "html = f\"\"\"\n",
    "<!DOCTYPE html>\n",
    "<html>\n",
    "<head>\n",
    "<style>\n",
    ".item0 {{ grid-area: timeline; }}\n",
    ".item1 {{ grid-area: header; }}\n",
    ".item2 {{ grid-area: menu; }}\n",
    ".item3 {{ grid-area: main; }}\n",
    ".item4 {{ grid-area: right; }}\n",
    "\n",
    ".grid-container {{\n",
    "  display: grid;\n",
    "  grid-template:\n",
    "    'timeline timeline timeline timeline timeline timeline'\n",
    "    'header header main main right right'\n",
    "    'menu menu main main right right';\n",
    "\n",
    "  grid-gap: 5px;\n",
    "  background-color: #777;\n",
    "  padding: 5px;\n",
    "}}\n",
    "\n",
    ".grid-container > div {{\n",
    "  background-color: rgba(255, 255, 255, .9);\n",
    "  text-align: center;\n",
    "  padding: 20px;\n",
    "  font-size: 12px;\n",
    "}}\n",
    "</style>\n",
    "</head>\n",
    "<body>\n",
    "\n",
    "<div class=\"grid-container\">\n",
    "  <div class=\"item0\">\n",
    "    <h2>Extracted Metadata using AdaptNLP</h2>\n",
    "  </div>\n",
    "  <div class=\"item1\">\n",
    "    <h3>Summary: </h3>\n",
    "    <p style=\"text-align: center\">{summary}</p>\n",
    "  </div>\n",
    "  <div class=\"item2\">\n",
    "    <h3>Translated French Summary: </h3>\n",
    "    <p style=\"text-align: center\">{translated_summary}</p>\n",
    "  </div>\n",
    "  <div class=\"item3\">\n",
    "    <h3>Extracted Entities: </h3>\n",
    "    <p style=\"text-align: left\">{ner_html}</p>\n",
    "  </div>  \n",
    "  <div class=\"item4\">\n",
    "    <h3>Top Answers to the Question: <br><em>\"What happened in 1776?\"</em></h3>\n",
    "    <p style=\"text-align: left\">{top_n_html}</p>\n",
    "  </div>\n",
    "</div>\n",
    "\n",
    "</body>\n",
    "</html>\n",
    "\"\"\"\n",
    "display(HTML(html))"
   ]
  },
  {
   "cell_type": "markdown",
   "metadata": {
    "colab_type": "text",
    "id": "G1z0m-16bjdK"
   },
   "source": [
    "# 2. Run NLP Tasks: Summarization, Translation, Named Entity Recognition (NER), and Question Answering (QA)\n",
    "\n",
    "### [Documentation and Guides](http://novetta.github.io/adaptnlp)"
   ]
  },
  {
   "cell_type": "markdown",
   "metadata": {
    "colab_type": "text",
    "id": "tVQB_OZAbjdK"
   },
   "source": [
    "### *Import \"Easy\" NLP Task Modules with AdaptNLP*"
   ]
  },
  {
   "cell_type": "code",
   "execution_count": null,
   "metadata": {
    "colab": {},
    "colab_type": "code",
    "id": "ip3bd4gKbjdL"
   },
   "outputs": [],
   "source": []
  },
  {
   "cell_type": "markdown",
   "metadata": {
    "colab_type": "text",
    "id": "uj3CCkvrbjdN"
   },
   "source": [
    "### *Set Example Text*"
   ]
  },
  {
   "cell_type": "code",
   "execution_count": null,
   "metadata": {
    "colab": {},
    "colab_type": "code",
    "id": "bBJ0Twb0bjdO"
   },
   "outputs": [],
   "source": []
  },
  {
   "cell_type": "markdown",
   "metadata": {
    "colab_type": "text",
    "id": "Txj2DaBybjdQ"
   },
   "source": [
    "### *Summarize*"
   ]
  },
  {
   "cell_type": "code",
   "execution_count": null,
   "metadata": {
    "colab": {},
    "colab_type": "code",
    "id": "ypP3eEpxbjdR"
   },
   "outputs": [],
   "source": []
  },
  {
   "cell_type": "code",
   "execution_count": null,
   "metadata": {
    "colab": {
     "base_uri": "https://localhost:8080/",
     "height": 34
    },
    "colab_type": "code",
    "id": "RdRof1QbbjdT",
    "outputId": "a9505366-18fe-4dfe-fa19-8e9e08652700"
   },
   "outputs": [],
   "source": []
  },
  {
   "cell_type": "code",
   "execution_count": null,
   "metadata": {
    "colab": {
     "base_uri": "https://localhost:8080/",
     "height": 69
    },
    "colab_type": "code",
    "id": "L9BnjJt8T26l",
    "outputId": "7a7bc879-d242-4890-f9a7-3b41442c2520"
   },
   "outputs": [],
   "source": []
  },
  {
   "cell_type": "markdown",
   "metadata": {
    "colab_type": "text",
    "id": "2CO1jx6YT4L-"
   },
   "source": [
    "### *Translate*"
   ]
  },
  {
   "cell_type": "code",
   "execution_count": null,
   "metadata": {
    "colab": {},
    "colab_type": "code",
    "id": "bKwyjCdmT3sZ"
   },
   "outputs": [],
   "source": []
  },
  {
   "cell_type": "code",
   "execution_count": null,
   "metadata": {
    "colab": {
     "base_uri": "https://localhost:8080/",
     "height": 34
    },
    "colab_type": "code",
    "id": "REqtz8zpT5gI",
    "outputId": "f407a45e-8cf9-4a71-80b9-123c91200de4"
   },
   "outputs": [],
   "source": []
  },
  {
   "cell_type": "code",
   "execution_count": null,
   "metadata": {
    "colab": {
     "base_uri": "https://localhost:8080/",
     "height": 69
    },
    "colab_type": "code",
    "id": "YFS-5qDWT65N",
    "outputId": "e7fabd73-dc07-488f-a34a-558810644637"
   },
   "outputs": [],
   "source": []
  },
  {
   "cell_type": "markdown",
   "metadata": {
    "colab_type": "text",
    "id": "y3HpUHWtT9Qf"
   },
   "source": [
    "### *Named Entity Recognition (NER)*"
   ]
  },
  {
   "cell_type": "code",
   "execution_count": null,
   "metadata": {
    "colab": {},
    "colab_type": "code",
    "id": "tLPsgfE2T_nf"
   },
   "outputs": [],
   "source": []
  },
  {
   "cell_type": "code",
   "execution_count": null,
   "metadata": {
    "colab": {
     "base_uri": "https://localhost:8080/",
     "height": 34
    },
    "colab_type": "code",
    "id": "AynCfDSjUAJ5",
    "outputId": "551463a9-87a3-4803-dc62-e7a8855d2c63"
   },
   "outputs": [],
   "source": []
  },
  {
   "cell_type": "code",
   "execution_count": null,
   "metadata": {
    "colab": {
     "base_uri": "https://localhost:8080/",
     "height": 1000
    },
    "colab_type": "code",
    "id": "xqSrGIreUAgC",
    "outputId": "d15b9fe9-0d2b-4a3f-ba55-09bef15f19ab"
   },
   "outputs": [],
   "source": []
  },
  {
   "cell_type": "markdown",
   "metadata": {
    "colab_type": "text",
    "id": "09Pss3ZmUA4q"
   },
   "source": [
    "### *Question Answering*"
   ]
  },
  {
   "cell_type": "code",
   "execution_count": null,
   "metadata": {
    "colab": {},
    "colab_type": "code",
    "id": "om0x2dAsUBel"
   },
   "outputs": [],
   "source": []
  },
  {
   "cell_type": "code",
   "execution_count": null,
   "metadata": {
    "colab": {
     "base_uri": "https://localhost:8080/",
     "height": 69
    },
    "colab_type": "code",
    "id": "RA0y7IDUUB3m",
    "outputId": "46aca9f1-758f-4135-9d65-5f729098975e"
   },
   "outputs": [],
   "source": []
  },
  {
   "cell_type": "code",
   "execution_count": null,
   "metadata": {
    "colab": {
     "base_uri": "https://localhost:8080/",
     "height": 625
    },
    "colab_type": "code",
    "id": "fiNzsE8-UCSW",
    "outputId": "399a6d5b-f804-42ec-b574-cba6134046c7"
   },
   "outputs": [],
   "source": []
  },
  {
   "cell_type": "markdown",
   "metadata": {
    "colab_type": "text",
    "id": "L1tl2lFAbjdl"
   },
   "source": [
    "# 3. Generate the Timeline: NER and QA"
   ]
  },
  {
   "cell_type": "markdown",
   "metadata": {
    "colab_type": "text",
    "id": "rwj55himbjdm"
   },
   "source": [
    "### *Run NER Task to Extract \"Date\" Tagged Entities*"
   ]
  },
  {
   "cell_type": "code",
   "execution_count": null,
   "metadata": {
    "colab": {},
    "colab_type": "code",
    "id": "Fil8QESMbjdm"
   },
   "outputs": [],
   "source": []
  },
  {
   "cell_type": "code",
   "execution_count": null,
   "metadata": {
    "colab": {
     "base_uri": "https://localhost:8080/",
     "height": 1000
    },
    "colab_type": "code",
    "id": "5di_Vo_Bbjdo",
    "outputId": "8bab20ca-3dc3-43a4-946e-99acabd69ab0"
   },
   "outputs": [],
   "source": []
  },
  {
   "cell_type": "code",
   "execution_count": null,
   "metadata": {
    "colab": {
     "base_uri": "https://localhost:8080/",
     "height": 851
    },
    "colab_type": "code",
    "id": "NCJgK9RCbjds",
    "outputId": "5d2ac80b-3506-450c-a0e2-b1df7c45c5ef"
   },
   "outputs": [],
   "source": []
  },
  {
   "cell_type": "code",
   "execution_count": null,
   "metadata": {
    "colab": {
     "base_uri": "https://localhost:8080/",
     "height": 607
    },
    "colab_type": "code",
    "id": "WmL6mroTbjdu",
    "outputId": "d80b783f-3711-4eda-f043-92605e1ed6c8"
   },
   "outputs": [],
   "source": []
  },
  {
   "cell_type": "code",
   "execution_count": null,
   "metadata": {
    "colab": {},
    "colab_type": "code",
    "id": "eVfEzKm5bjdx"
   },
   "outputs": [],
   "source": []
  },
  {
   "cell_type": "markdown",
   "metadata": {
    "colab_type": "text",
    "id": "FPpCee-kbjdy"
   },
   "source": [
    "\n",
    "### *Run QA Task to Extract Information on \"What happened in...\" Extracted Dates*"
   ]
  },
  {
   "cell_type": "code",
   "execution_count": null,
   "metadata": {
    "colab": {
     "base_uri": "https://localhost:8080/",
     "height": 607
    },
    "colab_type": "code",
    "id": "ett854eYbjdz",
    "outputId": "599cbc48-0205-4077-af65-fbac6293d8ea"
   },
   "outputs": [],
   "source": []
  },
  {
   "cell_type": "code",
   "execution_count": null,
   "metadata": {
    "colab": {
     "base_uri": "https://localhost:8080/",
     "height": 712
    },
    "colab_type": "code",
    "id": "Atu6XkFgbjd1",
    "outputId": "61655128-ae9f-4a8e-f8b6-9866e55dec04"
   },
   "outputs": [],
   "source": []
  },
  {
   "cell_type": "markdown",
   "metadata": {
    "colab_type": "text",
    "id": "S89ZOXBHABjK"
   },
   "source": [
    "### *Generate Text Timeline*"
   ]
  },
  {
   "cell_type": "code",
   "execution_count": null,
   "metadata": {
    "colab": {
     "base_uri": "https://localhost:8080/",
     "height": 607
    },
    "colab_type": "code",
    "id": "OOO1JrdUbW8j",
    "outputId": "f7750f38-e877-43fe-96fb-aed448b5de98"
   },
   "outputs": [],
   "source": []
  },
  {
   "cell_type": "markdown",
   "metadata": {
    "colab_type": "text",
    "id": "C-NpHdq5bjd3"
   },
   "source": [
    "### *Generate Stem Timeline with Matplotlib*"
   ]
  },
  {
   "cell_type": "code",
   "execution_count": null,
   "metadata": {
    "colab": {},
    "colab_type": "code",
    "id": "FiFdwFmUbjd3",
    "jupyter": {
     "source_hidden": true
    }
   },
   "outputs": [],
   "source": [
    "import matplotlib.pyplot as plt\n",
    "import numpy as np\n",
    "import matplotlib.dates as mdates\n",
    "from datetime import datetime\n",
    "\n",
    "def generate_timeline(names_mat: list, dates_mat: list):\n",
    "  # Choose levels\n",
    "  levels = np.tile([-30, 30, -20, 20, -12, 12, -7, 7, -1, 1], int(np.ceil(len(dates_mat)/10)))[:len(dates_mat)]\n",
    "\n",
    "  # Create figure and plot a stem plot with the date\n",
    "  fig, ax = plt.subplots(figsize=(20, 6), constrained_layout=True)\n",
    "  ax.set_title(\"Timeline of Significant Events in U.S. History\", fontsize=30, fontweight='bold')\n",
    "  markerline, stemline, baseline = ax.stem(dates_mat, levels, linefmt=\"C3-\", basefmt=\"k-\", use_line_collection=True)\n",
    "  plt.setp(markerline, mec=\"k\", mfc=\"w\", zorder=3)\n",
    "\n",
    "  # Shift the markers to the baseline by replacing the y-data by zeros.\n",
    "  markerline.set_ydata(np.zeros(len(dates_mat)))\n",
    "\n",
    "  # Annotate lines\n",
    "  vert = np.array(['top', 'bottom'])[(levels > 0).astype(int)]\n",
    "  for d, l, r, va in zip(dates_mat, levels, names_mat, vert):\n",
    "    ax.annotate(r, xy=(d, l), xytext=(-3, np.sign(l)*3), textcoords=\"offset points\", va=va, ha=\"right\")\n",
    "\n",
    "  # Format xaxis with AutoDateLocator\n",
    "  ax.get_xaxis().set_major_locator(mdates.AutoDateLocator())\n",
    "  ax.get_xaxis().set_major_formatter(mdates.DateFormatter(\"%b %Y\"))\n",
    "  plt.setp(ax.get_xticklabels(), rotation=30, ha=\"right\")\n",
    "\n",
    "  # Remove y axis and spines\n",
    "  ax.get_yaxis().set_visible(False)\n",
    "  for spine in [\"left\", \"top\", \"right\"]:\n",
    "    ax.spines[spine].set_visible(False)\n",
    "\n",
    "  ax.margins(y=0.1)\n",
    "  plt.show()"
   ]
  },
  {
   "cell_type": "code",
   "execution_count": null,
   "metadata": {
    "colab": {
     "base_uri": "https://localhost:8080/",
     "height": 457
    },
    "colab_type": "code",
    "id": "FtL0s2GXbjeC",
    "outputId": "d20df009-e2cd-453d-dfbd-f1bd7c420566"
   },
   "outputs": [],
   "source": []
  },
  {
   "cell_type": "markdown",
   "metadata": {
    "colab_type": "text",
    "id": "tCIKLMuvO9L_"
   },
   "source": [
    "# Additional AdaptNLP Resources (All Open and Publically Available)"
   ]
  },
  {
   "cell_type": "markdown",
   "metadata": {
    "colab_type": "text",
    "id": "mzrIAR4yUMYW"
   },
   "source": [
    "### *Tutorials for NLP Tasks with AdaptNLP*\n",
    "\n",
    "  1. Token Classification: NER, POS, Chunk, and Frame Tagging\n",
    "      - [![Open In Colab](https://colab.research.google.com/assets/colab-badge.svg)](https://colab.research.google.com/github/Novetta/adaptnlp/blob/master/tutorials/1.%20Token%20Classification/token_tagging.ipynb)\n",
    "  2. Sequence Classification: Sentiment\n",
    "      - [![Open In Colab](https://colab.research.google.com/assets/colab-badge.svg)](https://colab.research.google.com/github/Novetta/adaptnlp/blob/master/tutorials/2.%20Sequence%20Classification/sequence_classification.ipynb)\n",
    "  3. Embeddings: Transformer Embeddings e.g. BERT, XLM, GPT2, XLNet, roBERTa, ALBERT\n",
    "      - [![Open In Colab](https://colab.research.google.com/assets/colab-badge.svg)](https://colab.research.google.com/github/Novetta/adaptnlp/blob/master/tutorials/3.%20Embeddings/embeddings.ipynb)\n",
    "  4. Question Answering: Span-based Question Answering Model\n",
    "      - [![Open In Colab](https://colab.research.google.com/assets/colab-badge.svg)](https://colab.research.google.com/github/Novetta/adaptnlp/blob/master/tutorials/4.%20Question%20Answering/question_answering.ipynb)\n",
    "  5. Summarization: Abstractive and Extractive\n",
    "      - [![Open In Colab](https://colab.research.google.com/assets/colab-badge.svg)](https://colab.research.google.com/github/Novetta/adaptnlp/blob/master/tutorials/5.%20Summarization/summarization.ipynb)\n",
    "  6. Translation: Seq2Seq\n",
    "      - [![Open In Colab](https://colab.research.google.com/assets/colab-badge.svg)](https://colab.research.google.com/github/Novetta/adaptnlp/blob/master/tutorials/6.%20Translation/translation.ipynb)"
   ]
  },
  {
   "cell_type": "markdown",
   "metadata": {
    "colab_type": "text",
    "id": "wqtzIcarVxFB"
   },
   "source": [
    "### *Tutorial for Fine-tuning and Training Custom Models with AdaptNLP*\n",
    "\n",
    " 1. Training a Sequence Classifier\n",
    "   - [![Open In Colab](https://colab.research.google.com/assets/colab-badge.svg)](https://colab.research.google.com/github/Novetta/adaptnlp/blob/master/tutorials/Finetuning%20and%20Training%20(Advanced)/sequence_classification_training.ipynb)\n",
    " 2. Fine-tuning a Transformers Language Model\n",
    "   - [![Open In Colab](https://colab.research.google.com/assets/colab-badge.svg)](https://colab.research.google.com/github/Novetta/adaptnlp/blob/master/tutorials/Finetuning%20and%20Training%20(Advanced)/fine_tuning.ipynb)\n",
    "  \n",
    "Checkout the [documentation](https://novetta.github.io/adaptnlp) for more information.\n",
    "  "
   ]
  },
  {
   "cell_type": "markdown",
   "metadata": {
    "colab_type": "text",
    "id": "M9CEAsioV61c"
   },
   "source": [
    "## *NVIDIA Docker and Configurable AdaptNLP REST Microservices*\n",
    "\n",
    "  1. AdaptNLP official docker images are up on [Docker Hub](https://hub.docker.com/r/achangnovetta/adaptnlp).\n",
    "  2. REST Microservices with AdaptNLP and FastAPI are also up on [Docker Hub](https://hub.docker.com/r/achangnovetta/adaptnlp-rest)\n",
    " \n",
    "All images can build with GPU support if NVIDIA-Docker is correctly installed."
   ]
  },
  {
   "cell_type": "code",
   "execution_count": null,
   "metadata": {
    "colab": {},
    "colab_type": "code",
    "id": "MSDLN4DoV0L4"
   },
   "outputs": [],
   "source": []
  }
 ],
 "metadata": {
  "accelerator": "GPU",
  "colab": {
   "collapsed_sections": [
    "nThoqg72bjdC",
    "y3HpUHWtT9Qf",
    "09Pss3ZmUA4q",
    "FPpCee-kbjdy",
    "S89ZOXBHABjK",
    "tCIKLMuvO9L_"
   ],
   "name": "workshop.ipynb",
   "provenance": []
  },
  "kernelspec": {
   "display_name": "Python 3",
   "language": "python",
   "name": "python3"
  },
  "language_info": {
   "codemirror_mode": {
    "name": "ipython",
    "version": 3
   },
   "file_extension": ".py",
   "mimetype": "text/x-python",
   "name": "python",
   "nbconvert_exporter": "python",
   "pygments_lexer": "ipython3",
   "version": "3.6.9"
  }
 },
 "nbformat": 4,
 "nbformat_minor": 4
}
