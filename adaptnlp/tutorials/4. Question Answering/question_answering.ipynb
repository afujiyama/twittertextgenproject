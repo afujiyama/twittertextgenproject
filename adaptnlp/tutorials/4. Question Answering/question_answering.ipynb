{
 "cells": [
  {
   "cell_type": "code",
   "execution_count": null,
   "metadata": {},
   "outputs": [],
   "source": [
    "from adaptnlp import EasyQuestionAnswering"
   ]
  },
  {
   "cell_type": "markdown",
   "metadata": {},
   "source": [
    "# Question Answering Example with BERT"
   ]
  },
  {
   "cell_type": "markdown",
   "metadata": {},
   "source": [
    "### Instantiate `EasyQuestionAnswering`"
   ]
  },
  {
   "cell_type": "code",
   "execution_count": null,
   "metadata": {},
   "outputs": [],
   "source": [
    "qa_model = EasyQuestionAnswering()"
   ]
  },
  {
   "cell_type": "markdown",
   "metadata": {},
   "source": [
    "### Load Question and Context and Predict"
   ]
  },
  {
   "cell_type": "code",
   "execution_count": null,
   "metadata": {},
   "outputs": [],
   "source": [
    "text = \"\"\"Amazon.com, Inc.[6] (/ˈæməzɒn/), is an American multinational technology company based in Seattle, \n",
    "Washington that focuses on e-commerce, cloud computing, digital streaming, and artificial intelligence. \n",
    "It is considered one of the Big Four technology companies along with Google, Apple, and Facebook.[7][8][9] \n",
    "Amazon is known for its disruption of well-established industries through technological innovation and mass \n",
    "scale.[10][11][12] It is the world's largest e-commerce marketplace, AI assistant provider, and cloud computing \n",
    "platform[13] as measured by revenue and market capitalization.[14] Amazon is the largest Internet company by \n",
    "revenue in the world.[15] It is the second largest private employer in the United States[16] and one of the world's \n",
    "most valuable companies. Amazon is the second largest technology company by revenue. Amazon was founded by Jeff Bezos \n",
    "on July 5, 1994, in Bellevue, Washington. The company initially started as an online marketplace for books but later \n",
    "expanded to sell electronics, software, video games, apparel, furniture, food, toys, and jewelry. In 2015, Amazon \n",
    "surpassed Walmart as the most valuable retailer in the United States by market capitalization.[17] In 2017, Amazon \n",
    "acquired Whole Foods Market for $13.4 billion, which vastly increased Amazon's presence as a brick-and-mortar \n",
    "retailer.[18] In 2018, Bezos announced that its two-day delivery service, Amazon Prime, had surpassed 100 million \n",
    "subscribers worldwide\n",
    "\"\"\"\n",
    "\n",
    "top_prediction, all_nbest_json = qa_model.predict_qa(query=\"What does Amazon do?\", context=text, n_best_size=10, mini_batch_size=1, model_name_or_path=\"distilbert-base-uncased-distilled-squad\")\n"
   ]
  },
  {
   "cell_type": "markdown",
   "metadata": {},
   "source": [
    "###  \"Best\" Answer"
   ]
  },
  {
   "cell_type": "code",
   "execution_count": null,
   "metadata": {},
   "outputs": [],
   "source": [
    "top_prediction"
   ]
  },
  {
   "cell_type": "markdown",
   "metadata": {},
   "source": [
    "### Top N Answers"
   ]
  },
  {
   "cell_type": "code",
   "execution_count": null,
   "metadata": {
    "scrolled": true
   },
   "outputs": [],
   "source": [
    "all_nbest_json"
   ]
  },
  {
   "cell_type": "markdown",
   "metadata": {},
   "source": [
    "#### Show the highlighted answer of the top 10 answers"
   ]
  },
  {
   "cell_type": "code",
   "execution_count": null,
   "metadata": {},
   "outputs": [],
   "source": [
    "split_text = text.split()"
   ]
  },
  {
   "cell_type": "code",
   "execution_count": null,
   "metadata": {},
   "outputs": [],
   "source": [
    "from IPython.display import HTML as html_print\n",
    "\n",
    "for answer in all_nbest_json:\n",
    "    start = answer[\"start_index\"]\n",
    "    end = answer[\"end_index\"]\n",
    "    split_text[start] = \"<text style=color:red>\" + split_text[start]\n",
    "    split_text[end] = split_text[end] + \"</text>\"\n",
    "context_result = \" \".join(split_text)\n",
    "\n",
    "html_print(context_result)"
   ]
  },
  {
   "cell_type": "code",
   "execution_count": null,
   "metadata": {},
   "outputs": [],
   "source": []
  }
 ],
 "metadata": {
  "kernelspec": {
   "display_name": "Python 3",
   "language": "python",
   "name": "python3"
  },
  "language_info": {
   "codemirror_mode": {
    "name": "ipython",
    "version": 3
   },
   "file_extension": ".py",
   "mimetype": "text/x-python",
   "name": "python",
   "nbconvert_exporter": "python",
   "pygments_lexer": "ipython3",
   "version": "3.7.3"
  }
 },
 "nbformat": 4,
 "nbformat_minor": 4
}
